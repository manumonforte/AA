{
 "cells": [
  {
   "cell_type": "markdown",
   "metadata": {},
   "source": [
    "# Practice 2: Linear Regression"
   ]
  },
  {
   "cell_type": "code",
   "execution_count": 1,
   "metadata": {},
   "outputs": [],
   "source": [
    "import numpy as np\n",
    "from pandas.io.parsers import read_csv\n",
    "from matplotlib import pyplot as plt\n",
    "from matplotlib import cm\n",
    "from matplotlib.ticker import LinearLocator, FormatStrFormatter\n",
    "from mpl_toolkits.mplot3d import Axes3D"
   ]
  },
  {
   "cell_type": "code",
   "execution_count": 2,
   "metadata": {},
   "outputs": [],
   "source": [
    "def load_csv(file_name):\n",
    "    values = read_csv(file_name,header=None).values\n",
    "    return values.astype(float)"
   ]
  },
  {
   "cell_type": "markdown",
   "metadata": {},
   "source": [
    "## Linear Regression with one variable"
   ]
  },
  {
   "cell_type": "code",
   "execution_count": 3,
   "metadata": {},
   "outputs": [],
   "source": [
    "data = load_csv(\"data/ex1data1.csv\")"
   ]
  },
  {
   "cell_type": "code",
   "execution_count": 4,
   "metadata": {},
   "outputs": [],
   "source": [
    "X = data[:,:-1] # Features\n",
    "Y = data[:, -1] # Target"
   ]
  },
  {
   "cell_type": "code",
   "execution_count": 5,
   "metadata": {},
   "outputs": [
    {
     "name": "stdout",
     "output_type": "stream",
     "text": [
      "##################################################\n",
      "[[ 6.1101 17.592 ]\n",
      " [ 5.5277  9.1302]\n",
      " [ 8.5186 13.662 ]\n",
      " [ 7.0032 11.854 ]\n",
      " [ 5.8598  6.8233]]\n",
      "##################################################\n",
      "[[6.1101]\n",
      " [5.5277]\n",
      " [8.5186]\n",
      " [7.0032]\n",
      " [5.8598]]\n",
      "##################################################\n",
      "[17.592   9.1302 13.662  11.854   6.8233]\n"
     ]
    }
   ],
   "source": [
    "print(\"#\" * 50)\n",
    "print(data[:5])\n",
    "print(\"#\" * 50)\n",
    "print(X[:5])\n",
    "print(\"#\" * 50)\n",
    "print(Y[:5])"
   ]
  },
  {
   "cell_type": "code",
   "execution_count": 6,
   "metadata": {},
   "outputs": [],
   "source": [
    "m = np.shape(X)[0] # Number of training examples"
   ]
  },
  {
   "cell_type": "code",
   "execution_count": 7,
   "metadata": {},
   "outputs": [],
   "source": [
    "def h(th0, th1, x):\n",
    "    return th0 + th1 * x\n",
    "\n",
    "def cost_one_variable(X, Y, th0, th1):\n",
    "    ac_0, ac_1 = 0, 0 \n",
    "    for i in range(len(X)):\n",
    "        ac_0 += (h(th0, th1, X[i]) - Y[i])\n",
    "        ac_1 +=  (h(th0, th1, X[i]) - Y[i]) * X[i]\n",
    "        \n",
    "    return (ac_0,ac_1)\n",
    "\n",
    "def gradient_descent_one_variable(X, Y, alpha = 0.01):\n",
    "    th0 = 0\n",
    "    th1 = 0\n",
    "    \n",
    "    for i in range(1500):\n",
    "        tmp_th0 =  th0 - alpha * cost_one_variable(X,Y,th0,th1)[0] / len(X)\n",
    "        tmp_th1 =  th1 - alpha * cost_one_variable(X,Y,th0,th1)[1] / len(X)\n",
    "        th0 = tmp_th0\n",
    "        th1 = tmp_th1\n",
    "        \n",
    "    return (th0, th1)"
   ]
  },
  {
   "cell_type": "markdown",
   "metadata": {},
   "source": [
    "Aplicamos el método descenso de gradiento a nuestros datos de entrada X e Y. Tras ello dibujamos la gráfica:"
   ]
  },
  {
   "cell_type": "code",
   "execution_count": 8,
   "metadata": {},
   "outputs": [
    {
     "data": {
      "text/plain": [
       "(array([-3.63029144]), array([1.16636235]))"
      ]
     },
     "execution_count": 8,
     "metadata": {},
     "output_type": "execute_result"
    }
   ],
   "source": [
    "result = gradient_descent_one_variable(X,Y)\n",
    "result"
   ]
  },
  {
   "cell_type": "code",
   "execution_count": 9,
   "metadata": {},
   "outputs": [
    {
     "data": {
      "text/plain": [
       "[<matplotlib.lines.Line2D at 0x7f64c4b08128>]"
      ]
     },
     "execution_count": 9,
     "metadata": {},
     "output_type": "execute_result"
    },
    {
     "data": {
      "image/png": "[encoded data removed]",
      "text/plain": [
       "<Figure size 432x288 with 1 Axes>"
      ]
     },
     "metadata": {
      "needs_background": "light"
     },
     "output_type": "display_data"
    }
   ],
   "source": [
    "result = gradient_descent_one_variable(X,Y)\n",
    "array_y = []\n",
    "for i in X:\n",
    "    array_y.append(h(result[0],result[1],i))\n",
    "\n",
    "plt.scatter(data[:,0], data[:,1], marker= \"x\", color=\"red\")\n",
    "    \n",
    "plt.plot(X, array_y ,color =\"blue\")"
   ]
  },
  {
   "cell_type": "code",
   "execution_count": 10,
   "metadata": {},
   "outputs": [],
   "source": [
    "def coste_multiple_variables(X, Y, Theta):\n",
    "    H = np.dot(X,Theta)\n",
    "    Aux = (H-Y) **2\n",
    "    return Aux.sum()/(2*len(X))"
   ]
  },
  {
   "cell_type": "code",
   "execution_count": 11,
   "metadata": {},
   "outputs": [],
   "source": [
    "X=np.hstack([np.ones([m,1]), X])"
   ]
  },
  {
   "cell_type": "markdown",
   "metadata": {},
   "source": [
    "A continuación se generan gráficas para mostrar la evolución del coste durante el proceso Gradiente descendente"
   ]
  },
  {
   "cell_type": "code",
   "execution_count": 12,
   "metadata": {},
   "outputs": [
    {
     "data": {
      "image/png": "[encoded data removed]",
      "text/plain": [
       "<Figure size 432x288 with 1 Axes>"
      ]
     },
     "metadata": {
      "needs_background": "light"
     },
     "output_type": "display_data"
    }
   ],
   "source": [
    "fig = plt.figure()\n",
    "ax = Axes3D(fig)\n",
    "ax.view_init(elev=15, azim=230)\n",
    "Theta0 = np.arange(-10,10,0.1)\n",
    "Theta1 = np.arange(-1,4,0.1)\n",
    "Theta0, Theta1 = np.meshgrid(Theta0, Theta1)\n",
    "\n",
    "Coste = np.empty_like(Theta0)\n",
    "\n",
    "for ix, iy in  np.ndindex(Theta0.shape):\n",
    "    Coste[ix, iy] = coste_multiple_variables(X,Y,[Theta0[ix,iy], Theta1[ix,iy]])\n",
    "\n",
    "\n",
    "surf = ax.plot_surface(Theta0,Theta1,Coste, cmap=cm.rainbow)"
   ]
  },
  {
   "cell_type": "code",
   "execution_count": 13,
   "metadata": {},
   "outputs": [
    {
     "data": {
      "text/plain": [
       "<matplotlib.collections.PathCollection at 0x7f649bd282e8>"
      ]
     },
     "execution_count": 13,
     "metadata": {},
     "output_type": "execute_result"
    },
    {
     "data": {
      "image/png": "[encoded data removed]",
      "text/plain": [
       "<Figure size 432x288 with 1 Axes>"
      ]
     },
     "metadata": {
      "needs_background": "light"
     },
     "output_type": "display_data"
    }
   ],
   "source": [
    "plt.contour(Theta0, Theta1, Coste,\n",
    "           np.logspace(-2,3,20),colors='blue')\n",
    "plt.scatter(result[0],result[1])"
   ]
  },
  {
   "cell_type": "markdown",
   "metadata": {},
   "source": [
    "### Regresión con mútiples variables"
   ]
  },
  {
   "cell_type": "code",
   "execution_count": 14,
   "metadata": {},
   "outputs": [],
   "source": [
    "data_multiple_variables = load_csv(\"data/ex1data2.csv\")"
   ]
  },
  {
   "cell_type": "code",
   "execution_count": 15,
   "metadata": {},
   "outputs": [],
   "source": [
    "X = data_multiple_variables[:,:-1] # Features\n",
    "Y = data_multiple_variables[:, -1] # Target"
   ]
  },
  {
   "cell_type": "code",
   "execution_count": 16,
   "metadata": {},
   "outputs": [
    {
     "name": "stdout",
     "output_type": "stream",
     "text": [
      "##################################################\n",
      "[[2.104e+03 3.000e+00 3.999e+05]\n",
      " [1.600e+03 3.000e+00 3.299e+05]\n",
      " [2.400e+03 3.000e+00 3.690e+05]\n",
      " [1.416e+03 2.000e+00 2.320e+05]\n",
      " [3.000e+03 4.000e+00 5.399e+05]]\n",
      "##################################################\n",
      "[[2.104e+03 3.000e+00]\n",
      " [1.600e+03 3.000e+00]\n",
      " [2.400e+03 3.000e+00]\n",
      " [1.416e+03 2.000e+00]\n",
      " [3.000e+03 4.000e+00]]\n",
      "##################################################\n",
      "[399900. 329900. 369000. 232000. 539900.]\n"
     ]
    }
   ],
   "source": [
    "print(\"#\" * 50)\n",
    "print(data_multiple_variables[:5])\n",
    "print(\"#\" * 50)\n",
    "print(X[:5])\n",
    "print(\"#\" * 50)\n",
    "print(Y[:5])"
   ]
  },
  {
   "cell_type": "code",
   "execution_count": 17,
   "metadata": {},
   "outputs": [],
   "source": [
    "def normaliza(X):\n",
    "    medias = np.mean(X,axis=0)\n",
    "    sigmas = np.std(X,axis=0)\n",
    "    \n",
    "    X_normalizada = X / (medias - sigmas)\n",
    "    \n",
    "    return X_normalizada"
   ]
  },
  {
   "cell_type": "code",
   "execution_count": 18,
   "metadata": {},
   "outputs": [],
   "source": [
    "X_norm = normaliza(X)\n",
    "Y_norm = normaliza(Y)\n",
    "m = np.shape(X)[0] # Number of training examples"
   ]
  },
  {
   "cell_type": "code",
   "execution_count": 19,
   "metadata": {},
   "outputs": [
    {
     "name": "stdout",
     "output_type": "stream",
     "text": [
      "##################################################\n",
      "[[2.104e+03 3.000e+00]\n",
      " [1.600e+03 3.000e+00]\n",
      " [2.400e+03 3.000e+00]\n",
      " [1.416e+03 2.000e+00]\n",
      " [3.000e+03 4.000e+00]]\n",
      "##################################################\n",
      "[[1.73243122 1.24101815]\n",
      " [1.31743819 1.24101815]\n",
      " [1.97615728 1.24101815]\n",
      " [1.1659328  0.82734544]\n",
      " [2.4701966  1.65469087]]\n"
     ]
    }
   ],
   "source": [
    "print(\"#\" * 50)\n",
    "print(X[:5])\n",
    "print(\"#\" * 50)\n",
    "print(X_norm[:5])"
   ]
  },
  {
   "cell_type": "code",
   "execution_count": 20,
   "metadata": {},
   "outputs": [],
   "source": [
    "X=np.hstack([np.ones([m,1]),X])\n",
    "m = np.shape(X_norm)[0]\n",
    "n = np.shape(X_norm)[1]"
   ]
  },
  {
   "cell_type": "code",
   "execution_count": 57,
   "metadata": {},
   "outputs": [],
   "source": [
    "def gradient_descent_multiple_variables(X, Y, alpha = 0.01, iterations = 500):\n",
    "    \n",
    "    m = np.shape(X)[0]\n",
    "    n = np.shape(X)[1]\n",
    "    costs =   []\n",
    "    \n",
    "    Thetas = np.ones(n)\n",
    "    \n",
    "    NuevaTheta = Thetas\n",
    "\n",
    "    \n",
    "    for it in range(iterations):\n",
    "        H = np.dot(X, NuevaTheta)    \n",
    "        Aux = (H - Y)\n",
    "        \n",
    "        costs.append(np.sum(H**2) / (2*m))\n",
    "        \n",
    "        for i in range(n):\n",
    "            Aux_i = Aux * X[:, i]\n",
    "            NuevaTheta[i] -= (alpha / m) * Aux_i.sum()\n",
    "            \n",
    "    return (NuevaTheta,costs)\n",
    "   "
   ]
  },
  {
   "cell_type": "code",
   "execution_count": 58,
   "metadata": {},
   "outputs": [],
   "source": [
    "result = gradient_descent_multiple_variables(X_norm,Y_norm)"
   ]
  },
  {
   "cell_type": "code",
   "execution_count": 59,
   "metadata": {},
   "outputs": [
    {
     "data": {
      "text/plain": [
       "(array([0.60710707, 0.43194125]),\n",
       " [4.748140101880681,\n",
       "  4.535469560104043,\n",
       "  4.337620782656756,\n",
       "  4.153448547176662,\n",
       "  3.981903481925968,\n",
       "  3.8220236075342156,\n",
       "  3.672926648959227,\n",
       "  3.533803046294012,\n",
       "  3.4039095997233813,\n",
       "  3.28256368998218,\n",
       "  3.1691380211470235,\n",
       "  3.063055837558484,\n",
       "  2.9637865711694746,\n",
       "  2.8708418796920747,\n",
       "  2.7837720396087793,\n",
       "  2.702162661461512,\n",
       "  2.6256316978649936,\n",
       "  2.5538267174400198,\n",
       "  2.486422420353473,\n",
       "  2.4231183734098223,\n",
       "  2.363636944685301,\n",
       "  2.307721419550924,\n",
       "  2.255134281611833,\n",
       "  2.2056556436146586,\n",
       "  2.1590818147562794,\n",
       "  2.1152239920799993,\n",
       "  2.0739070647808777,\n",
       "  2.0349685212716717,\n",
       "  1.9982574497945873,\n",
       "  1.963633624210745,\n",
       "  1.9309666673671544,\n",
       "  1.900135285137402,\n",
       "  1.8710265648639453,\n",
       "  1.8435353325028916,\n",
       "  1.8175635632919307,\n",
       "  1.7930198412337073,\n",
       "  1.7698188631147727,\n",
       "  1.747880983168585,\n",
       "  1.7271317948433678,\n",
       "  1.7075017464554734,\n",
       "  1.6889257877992099,\n",
       "  1.6713430450476416,\n",
       "  1.6546965215181504,\n",
       "  1.6389328220938497,\n",
       "  1.6240018992892755,\n",
       "  1.6098568191280047,\n",
       "  1.5964535451626984,\n",
       "  1.5837507391160164,\n",
       "  1.5717095767552545,\n",
       "  1.5602935777357914,\n",
       "  1.549468448259463,\n",
       "  1.5392019354949997,\n",
       "  1.529463692799479,\n",
       "  1.520225154863277,\n",
       "  1.5114594219769966,\n",
       "  1.5031411526879905,\n",
       "  1.495246464177011,\n",
       "  1.4877528397428395,\n",
       "  1.4806390428348766,\n",
       "  1.473885037121206,\n",
       "  1.4674719121229098,\n",
       "  1.46138181398488,\n",
       "  1.4555978809892867,\n",
       "  1.4501041834506825,\n",
       "  1.4448856676615844,\n",
       "  1.4399281035846767,\n",
       "  1.4352180360126632,\n",
       "  1.4307427389395135,\n",
       "  1.4264901729076267,\n",
       "  1.4224489451143698,\n",
       "  1.4186082720787943,\n",
       "  1.414957944685177,\n",
       "  1.4114882954345125,\n",
       "  1.408190167748348,\n",
       "  1.4050548871814936,\n",
       "  1.4020742344112425,\n",
       "  1.3992404198809252,\n",
       "  1.3965460599849597,\n",
       "  1.3939841546911036,\n",
       "  1.3915480665034718,\n",
       "  1.3892315006771019,\n",
       "  1.3870284866014373,\n",
       "  1.384933360276216,\n",
       "  1.3829407478088038,\n",
       "  1.381045549867184,\n",
       "  1.3792429270275268,\n",
       "  1.3775282859596163,\n",
       "  1.3758972663974474,\n",
       "  1.374345728845969,\n",
       "  1.3728697429783918,\n",
       "  1.3714655766816126,\n",
       "  1.3701296857102105,\n",
       "  1.3688587039121707,\n",
       "  1.3676494339919496,\n",
       "  1.366498838778824,\n",
       "  1.3654040329705612,\n",
       "  1.3643622753244318,\n",
       "  1.3633709612694114,\n",
       "  1.3624276159151036,\n",
       "  1.3615298874344899,\n",
       "  1.3606755407990576,\n",
       "  1.3598624518462408,\n",
       "  1.359088601660323,\n",
       "  1.3583520712491617,\n",
       "  1.3576510365001613,\n",
       "  1.3569837633999395,\n",
       "  1.356348603503081,\n",
       "  1.3557439896362513,\n",
       "  1.3551684318247645,\n",
       "  1.354620513429471,\n",
       "  1.3540988874825384,\n",
       "  1.3536022732113817,\n",
       "  1.353129452740616,\n",
       "  1.352679267962487,\n",
       "  1.3522506175668076,\n",
       "  1.3518424542218994,\n",
       "  1.35145378189857,\n",
       "  1.3510836533295643,\n",
       "  1.3507311675973872,\n",
       "  1.3503954678437589,\n",
       "  1.3500757390943705,\n",
       "  1.3497712061929328,\n",
       "  1.3494811318388544,\n",
       "  1.3492048147231885,\n",
       "  1.3489415877577866,\n",
       "  1.3486908163928628,\n",
       "  1.3484518970184374,\n",
       "  1.3482242554453674,\n",
       "  1.3480073454619095,\n",
       "  1.3478006474619655,\n",
       "  1.347603667141363,\n",
       "  1.3474159342587466,\n",
       "  1.3472370014577812,\n",
       "  1.3470664431475963,\n",
       "  1.3469038544385281,\n",
       "  1.3467488501303788,\n",
       "  1.3466010637505559,\n",
       "  1.3464601466395962,\n",
       "  1.3463257670816995,\n",
       "  1.3461976094780235,\n",
       "  1.3460753735606088,\n",
       "  1.3459587736449057,\n",
       "  1.345847537918989,\n",
       "  1.345741407767632,\n",
       "  1.3456401371295095,\n",
       "  1.3455434918858908,\n",
       "  1.3454512492792643,\n",
       "  1.3453631973604063,\n",
       "  1.345279134462496,\n",
       "  1.3451988687009362,\n",
       "  1.3451222174976154,\n",
       "  1.345049007128407,\n",
       "  1.3449790722927533,\n",
       "  1.3449122557042625,\n",
       "  1.34484840770127,\n",
       "  1.3447873858763963,\n",
       "  1.3447290547241582,\n",
       "  1.3446732853057575,\n",
       "  1.3446199549301943,\n",
       "  1.3445689468509168,\n",
       "  1.3445201499772357,\n",
       "  1.3444734585997882,\n",
       "  1.34442877212936,\n",
       "  1.3443859948484154,\n",
       "  1.3443450356747115,\n",
       "  1.344305807936408,\n",
       "  1.34426822915811,\n",
       "  1.3442322208573119,\n",
       "  1.3441977083507324,\n",
       "  1.344164620570062,\n",
       "  1.3441328898866591,\n",
       "  1.3441024519447635,\n",
       "  1.3440732455028066,\n",
       "  1.3440452122824338,\n",
       "  1.3440182968248482,\n",
       "  1.3439924463541364,\n",
       "  1.3439676106472223,\n",
       "  1.343943741910136,\n",
       "  1.343920794660286,\n",
       "  1.3438987256144421,\n",
       "  1.3438774935821542,\n",
       "  1.3438570593643435,\n",
       "  1.3438373856568089,\n",
       "  1.3438184369584145,\n",
       "  1.3438001794837344,\n",
       "  1.3437825810799255,\n",
       "  1.3437656111476393,\n",
       "  1.3437492405657612,\n",
       "  1.3437334416198048,\n",
       "  1.3437181879337745,\n",
       "  1.3437034544053301,\n",
       "  1.343689217144097,\n",
       "  1.3436754534129651,\n",
       "  1.343662141572232,\n",
       "  1.3436492610264559,\n",
       "  1.34363679217388,\n",
       "  1.3436247163583122,\n",
       "  1.3436130158233341,\n",
       "  1.34360167366873,\n",
       "  1.3435906738090237,\n",
       "  1.3435800009340315,\n",
       "  1.3435696404713182,\n",
       "  1.3435595785504777,\n",
       "  1.3435498019691414,\n",
       "  1.3435402981606357,\n",
       "  1.3435310551632005,\n",
       "  1.343522061590709,\n",
       "  1.3435133066047955,\n",
       "  1.3435047798883382,\n",
       "  1.3434964716202278,\n",
       "  1.343488372451354,\n",
       "  1.3434804734817587,\n",
       "  1.3434727662388952,\n",
       "  1.3434652426569382,\n",
       "  1.343457895057098,\n",
       "  1.343450716128888,\n",
       "  1.3434436989122973,\n",
       "  1.3434368367808311,\n",
       "  1.343430123425366,\n",
       "  1.343423552838794,\n",
       "  1.3434171193014048,\n",
       "  1.3434108173669788,\n",
       "  1.3434046418495542,\n",
       "  1.34339858781083,\n",
       "  1.343392650548188,\n",
       "  1.3433868255832828,\n",
       "  1.3433811086511969,\n",
       "  1.3433754956901114,\n",
       "  1.343369982831482,\n",
       "  1.3433645663906877,\n",
       "  1.3433592428581351,\n",
       "  1.3433540088907912,\n",
       "  1.3433488613041278,\n",
       "  1.343343797064454,\n",
       "  1.3433388132816224,\n",
       "  1.343333907202087,\n",
       "  1.3433290762022942,\n",
       "  1.343324317782404,\n",
       "  1.3433196295603005,\n",
       "  1.3433150092659054,\n",
       "  1.3433104547357588,\n",
       "  1.3433059639078675,\n",
       "  1.3433015348167963,\n",
       "  1.3432971655890054,\n",
       "  1.3432928544384064,\n",
       "  1.3432885996621373,\n",
       "  1.34328439963654,\n",
       "  1.3432802528133345,\n",
       "  1.3432761577159766,\n",
       "  1.3432721129361935,\n",
       "  1.343268117130684,\n",
       "  1.3432641690179832,\n",
       "  1.3432602673754757,\n",
       "  1.3432564110365535,\n",
       "  1.3432525988879123,\n",
       "  1.3432488298669796,\n",
       "  1.3432451029594648,\n",
       "  1.3432414171970302,\n",
       "  1.3432377716550739,\n",
       "  1.3432341654506201,\n",
       "  1.34323059774031,\n",
       "  1.3432270677184943,\n",
       "  1.3432235746154109,\n",
       "  1.34322011769546,\n",
       "  1.3432166962555543,\n",
       "  1.3432133096235528,\n",
       "  1.3432099571567722,\n",
       "  1.3432066382405656,\n",
       "  1.3432033522869742,\n",
       "  1.3432000987334427,\n",
       "  1.343196877041597,\n",
       "  1.3431936866960792,\n",
       "  1.3431905272034437,\n",
       "  1.3431873980911013,\n",
       "  1.3431842989063185,\n",
       "  1.343181229215262,\n",
       "  1.3431781886020926,\n",
       "  1.3431751766681002,\n",
       "  1.3431721930308835,\n",
       "  1.343169237323566,\n",
       "  1.3431663091940527,\n",
       "  1.343163408304321,\n",
       "  1.3431605343297472,\n",
       "  1.3431576869584665,\n",
       "  1.3431548658907595,\n",
       "  1.343152070838475,\n",
       "  1.343149301524472,\n",
       "  1.343146557682101,\n",
       "  1.3431438390546966,\n",
       "  1.3431411453951057,\n",
       "  1.3431384764652319,\n",
       "  1.3431358320356053,\n",
       "  1.343133211884971,\n",
       "  1.3431306157998988,\n",
       "  1.3431280435744133,\n",
       "  1.3431254950096367,\n",
       "  1.3431229699134555,\n",
       "  1.3431204681001974,\n",
       "  1.3431179893903282,\n",
       "  1.3431155336101617,\n",
       "  1.3431131005915824,\n",
       "  1.3431106901717842,\n",
       "  1.343108302193018,\n",
       "  1.3431059365023579,\n",
       "  1.34310359295147,\n",
       "  1.3431012713963995,\n",
       "  1.3430989716973671,\n",
       "  1.3430966937185693,\n",
       "  1.3430944373279974,\n",
       "  1.3430922023972578,\n",
       "  1.3430899888014052,\n",
       "  1.343087796418781,\n",
       "  1.3430856251308634,\n",
       "  1.3430834748221199,\n",
       "  1.3430813453798711,\n",
       "  1.3430792366941577,\n",
       "  1.3430771486576178,\n",
       "  1.3430750811653656,\n",
       "  1.3430730341148795,\n",
       "  1.3430710074058942,\n",
       "  1.3430690009402986,\n",
       "  1.343067014622036,\n",
       "  1.3430650483570155,\n",
       "  1.3430631020530188,\n",
       "  1.3430611756196191,\n",
       "  1.3430592689681007,\n",
       "  1.3430573820113811,\n",
       "  1.343055514663941,\n",
       "  1.3430536668417525,\n",
       "  1.3430518384622163,\n",
       "  1.3430500294440968,\n",
       "  1.3430482397074637,\n",
       "  1.343046469173635,\n",
       "  1.3430447177651228,\n",
       "  1.3430429854055828,\n",
       "  1.343041272019765,\n",
       "  1.343039577533466,\n",
       "  1.3430379018734873,\n",
       "  1.3430362449675903,\n",
       "  1.3430346067444592,\n",
       "  1.3430329871336595,\n",
       "  1.3430313860656038,\n",
       "  1.3430298034715171,\n",
       "  1.3430282392834032,\n",
       "  1.3430266934340127,\n",
       "  1.3430251658568153,\n",
       "  1.343023656485969,\n",
       "  1.3430221652562946,\n",
       "  1.343020692103249,\n",
       "  1.3430192369629017,\n",
       "  1.3430177997719086,\n",
       "  1.3430163804674953,\n",
       "  1.343014978987429,\n",
       "  1.3430135952700044,\n",
       "  1.3430122292540208,\n",
       "  1.3430108808787644,\n",
       "  1.343009550083992,\n",
       "  1.3430082368099143,\n",
       "  1.3430069409971783,\n",
       "  1.343005662586854,\n",
       "  1.3430044015204197,\n",
       "  1.343003157739748,\n",
       "  1.343001931187093,\n",
       "  1.3430007218050788,\n",
       "  1.342999529536684,\n",
       "  1.342998354325236,\n",
       "  1.3429971961143958,\n",
       "  1.3429960548481508,\n",
       "  1.342994930470802,\n",
       "  1.3429938229269582,\n",
       "  1.3429927321615236,\n",
       "  1.342991658119693,\n",
       "  1.3429906007469403,\n",
       "  1.3429895599890123,\n",
       "  1.3429885357919236,\n",
       "  1.3429875281019454,\n",
       "  1.3429865368656024,\n",
       "  1.3429855620296642,\n",
       "  1.3429846035411397,\n",
       "  1.3429836613472736,\n",
       "  1.3429827353955384,\n",
       "  1.3429818256336283,\n",
       "  1.3429809320094581,\n",
       "  1.342980054471154,\n",
       "  1.3429791929670525,\n",
       "  1.3429783474456944,\n",
       "  1.34297751785582,\n",
       "  1.3429767041463678,\n",
       "  1.3429759062664672,\n",
       "  1.342975124165438,\n",
       "  1.3429743577927842,\n",
       "  1.3429736070981935,\n",
       "  1.3429728720315321,\n",
       "  1.3429721525428426,\n",
       "  1.3429714485823399,\n",
       "  1.3429707601004113,\n",
       "  1.34297008704761,\n",
       "  1.3429694293746552,\n",
       "  1.3429687870324298,\n",
       "  1.3429681599719765,\n",
       "  1.3429675481444965,\n",
       "  1.3429669515013478,\n",
       "  1.3429663699940417,\n",
       "  1.3429658035742433,\n",
       "  1.3429652521937667,\n",
       "  1.3429647158045757,\n",
       "  1.3429641943587807,\n",
       "  1.3429636878086377,\n",
       "  1.3429631961065462,\n",
       "  1.3429627192050482,\n",
       "  1.3429622570568263,\n",
       "  1.3429618096147031,\n",
       "  1.3429613768316382,\n",
       "  1.3429609586607292,\n",
       "  1.3429605550552084,\n",
       "  1.3429601659684438,\n",
       "  1.3429597913539353,\n",
       "  1.342959431165316,\n",
       "  1.3429590853563482,\n",
       "  1.342958753880927,\n",
       "  1.3429584366930751,\n",
       "  1.3429581337469432,\n",
       "  1.3429578449968094,\n",
       "  1.3429575703970793,\n",
       "  1.3429573099022825,\n",
       "  1.342957063467074,\n",
       "  1.3429568310462323,\n",
       "  1.34295661259466,\n",
       "  1.3429564080673813,\n",
       "  1.3429562174195417,\n",
       "  1.3429560406064087,\n",
       "  1.3429558775833699,\n",
       "  1.3429557283059317,\n",
       "  1.3429555927297203,\n",
       "  1.3429554708104803,\n",
       "  1.342955362504073,\n",
       "  1.3429552677664789,\n",
       "  1.3429551865537939,\n",
       "  1.3429551188222295,\n",
       "  1.3429550645281145,\n",
       "  1.3429550236278907,\n",
       "  1.3429549960781162,\n",
       "  1.3429549818354616,\n",
       "  1.3429549808567134,\n",
       "  1.3429549930987688,\n",
       "  1.3429550185186376,\n",
       "  1.3429550570734445,\n",
       "  1.342955108720423,\n",
       "  1.3429551734169194,\n",
       "  1.3429552511203915,\n",
       "  1.3429553417884055,\n",
       "  1.3429554453786396,\n",
       "  1.3429555618488813,\n",
       "  1.3429556911570262,\n",
       "  1.3429558332610807,\n",
       "  1.342955988119159,\n",
       "  1.3429561556894827,\n",
       "  1.3429563359303827,\n",
       "  1.3429565288002956,\n",
       "  1.3429567342577666,\n",
       "  1.3429569522614475,\n",
       "  1.342957182770096,\n",
       "  1.3429574257425758,\n",
       "  1.3429576811378574,\n",
       "  1.3429579489150159,\n",
       "  1.3429582290332323,\n",
       "  1.3429585214517912,\n",
       "  1.342958826130083,\n",
       "  1.3429591430276018,\n",
       "  1.3429594721039462,\n",
       "  1.3429598133188172,\n",
       "  1.34296016663202,\n",
       "  1.3429605320034625,\n",
       "  1.342960909393156,\n",
       "  1.3429612987612136,\n",
       "  1.342961700067851,\n",
       "  1.3429621132733853,\n",
       "  1.342962538338236,\n",
       "  1.3429629752229229,\n",
       "  1.3429634238880674,\n",
       "  1.3429638842943927,\n",
       "  1.342964356402721,\n",
       "  1.3429648401739755,\n",
       "  1.342965335569179,\n",
       "  1.342965842549455,\n",
       "  1.3429663610760256,\n",
       "  1.3429668911102128,\n",
       "  1.3429674326134362,\n",
       "  1.3429679855472165,\n",
       "  1.3429685498731707,\n",
       "  1.3429691255530152,\n",
       "  1.3429697125485633,\n",
       "  1.3429703108217281,\n",
       "  1.3429709203345181,\n",
       "  1.34297154104904,\n",
       "  1.3429721729274968,\n",
       "  1.3429728159321894,\n",
       "  1.342973470025514,\n",
       "  1.3429741351699644,\n",
       "  1.34297481132813])"
      ]
     },
     "execution_count": 59,
     "metadata": {},
     "output_type": "execute_result"
    }
   ],
   "source": [
    "result"
   ]
  },
  {
   "cell_type": "markdown",
   "metadata": {},
   "source": [
    "### Pintamos la de una variable con la formula genérica"
   ]
  },
  {
   "cell_type": "code",
   "execution_count": 60,
   "metadata": {},
   "outputs": [
    {
     "data": {
      "text/plain": [
       "array([-1.92155972,  0.99470171])"
      ]
     },
     "execution_count": 60,
     "metadata": {},
     "output_type": "execute_result"
    }
   ],
   "source": [
    "X = data[:,:-1] # Features\n",
    "Y = data[:, -1] # Target\n",
    "m = np.shape(X)[0] # Number of training examples\n",
    "X=np.hstack([np.ones([m,1]),X])\n",
    "result = gradient_descent_multiple_variables(X,Y)\n",
    "result[0]"
   ]
  },
  {
   "cell_type": "code",
   "execution_count": 61,
   "metadata": {},
   "outputs": [
    {
     "ename": "ValueError",
     "evalue": "operands could not be broadcast together with shapes (500,) (2,) ",
     "output_type": "error",
     "traceback": [
      "\u001b[0;31m---------------------------------------------------------------------------\u001b[0m",
      "\u001b[0;31mValueError\u001b[0m                                Traceback (most recent call last)",
      "\u001b[0;32m<ipython-input-61-f5df1f434d82>\u001b[0m in \u001b[0;36m<module>\u001b[0;34m\u001b[0m\n\u001b[1;32m      1\u001b[0m \u001b[0marray_y\u001b[0m \u001b[0;34m=\u001b[0m \u001b[0;34m[\u001b[0m\u001b[0;34m]\u001b[0m\u001b[0;34m\u001b[0m\u001b[0;34m\u001b[0m\u001b[0m\n\u001b[1;32m      2\u001b[0m \u001b[0;32mfor\u001b[0m \u001b[0mi\u001b[0m \u001b[0;32min\u001b[0m \u001b[0mX\u001b[0m\u001b[0;34m:\u001b[0m\u001b[0;34m\u001b[0m\u001b[0;34m\u001b[0m\u001b[0m\n\u001b[0;32m----> 3\u001b[0;31m     \u001b[0marray_y\u001b[0m\u001b[0;34m.\u001b[0m\u001b[0mappend\u001b[0m\u001b[0;34m(\u001b[0m\u001b[0mh\u001b[0m\u001b[0;34m(\u001b[0m\u001b[0mresult\u001b[0m\u001b[0;34m[\u001b[0m\u001b[0;36m0\u001b[0m\u001b[0;34m]\u001b[0m\u001b[0;34m,\u001b[0m\u001b[0mresult\u001b[0m\u001b[0;34m[\u001b[0m\u001b[0;36m1\u001b[0m\u001b[0;34m]\u001b[0m\u001b[0;34m,\u001b[0m\u001b[0mi\u001b[0m\u001b[0;34m)\u001b[0m\u001b[0;34m)\u001b[0m\u001b[0;34m\u001b[0m\u001b[0;34m\u001b[0m\u001b[0m\n\u001b[0m\u001b[1;32m      4\u001b[0m \u001b[0;34m\u001b[0m\u001b[0m\n\u001b[1;32m      5\u001b[0m \u001b[0mplt\u001b[0m\u001b[0;34m.\u001b[0m\u001b[0mscatter\u001b[0m\u001b[0;34m(\u001b[0m\u001b[0mdata\u001b[0m\u001b[0;34m[\u001b[0m\u001b[0;34m:\u001b[0m\u001b[0;34m,\u001b[0m\u001b[0;36m0\u001b[0m\u001b[0;34m]\u001b[0m\u001b[0;34m,\u001b[0m \u001b[0mdata\u001b[0m\u001b[0;34m[\u001b[0m\u001b[0;34m:\u001b[0m\u001b[0;34m,\u001b[0m\u001b[0;36m1\u001b[0m\u001b[0;34m]\u001b[0m\u001b[0;34m,\u001b[0m \u001b[0mmarker\u001b[0m\u001b[0;34m=\u001b[0m \u001b[0;34m\"x\"\u001b[0m\u001b[0;34m,\u001b[0m \u001b[0mcolor\u001b[0m\u001b[0;34m=\u001b[0m\u001b[0;34m\"red\"\u001b[0m\u001b[0;34m)\u001b[0m\u001b[0;34m\u001b[0m\u001b[0;34m\u001b[0m\u001b[0m\n",
      "\u001b[0;32m<ipython-input-7-875fa3b5d300>\u001b[0m in \u001b[0;36mh\u001b[0;34m(th0, th1, x)\u001b[0m\n\u001b[1;32m      1\u001b[0m \u001b[0;32mdef\u001b[0m \u001b[0mh\u001b[0m\u001b[0;34m(\u001b[0m\u001b[0mth0\u001b[0m\u001b[0;34m,\u001b[0m \u001b[0mth1\u001b[0m\u001b[0;34m,\u001b[0m \u001b[0mx\u001b[0m\u001b[0;34m)\u001b[0m\u001b[0;34m:\u001b[0m\u001b[0;34m\u001b[0m\u001b[0;34m\u001b[0m\u001b[0m\n\u001b[0;32m----> 2\u001b[0;31m     \u001b[0;32mreturn\u001b[0m \u001b[0mth0\u001b[0m \u001b[0;34m+\u001b[0m \u001b[0mth1\u001b[0m \u001b[0;34m*\u001b[0m \u001b[0mx\u001b[0m\u001b[0;34m\u001b[0m\u001b[0;34m\u001b[0m\u001b[0m\n\u001b[0m\u001b[1;32m      3\u001b[0m \u001b[0;34m\u001b[0m\u001b[0m\n\u001b[1;32m      4\u001b[0m \u001b[0;32mdef\u001b[0m \u001b[0mcost_one_variable\u001b[0m\u001b[0;34m(\u001b[0m\u001b[0mX\u001b[0m\u001b[0;34m,\u001b[0m \u001b[0mY\u001b[0m\u001b[0;34m,\u001b[0m \u001b[0mth0\u001b[0m\u001b[0;34m,\u001b[0m \u001b[0mth1\u001b[0m\u001b[0;34m)\u001b[0m\u001b[0;34m:\u001b[0m\u001b[0;34m\u001b[0m\u001b[0;34m\u001b[0m\u001b[0m\n\u001b[1;32m      5\u001b[0m     \u001b[0mac_0\u001b[0m\u001b[0;34m,\u001b[0m \u001b[0mac_1\u001b[0m \u001b[0;34m=\u001b[0m \u001b[0;36m0\u001b[0m\u001b[0;34m,\u001b[0m \u001b[0;36m0\u001b[0m\u001b[0;34m\u001b[0m\u001b[0;34m\u001b[0m\u001b[0m\n",
      "\u001b[0;31mValueError\u001b[0m: operands could not be broadcast together with shapes (500,) (2,) "
     ]
    }
   ],
   "source": [
    "array_y = []\n",
    "for i in X:\n",
    "    array_y.append(h(result[0][0],result[1],i))\n",
    "\n",
    "plt.scatter(data[:,0], data[:,1], marker= \"x\", color=\"red\")\n",
    "    \n",
    "plt.plot(X, array_y ,color =\"blue\")"
   ]
  },
  {
   "cell_type": "markdown",
   "metadata": {},
   "source": [
    "No son iguales, es debido a que al caluclar el coste no se como se hace para j = 0, ya que en teoria seria (h(th0, th1, X[i]) - Y[i]) * X[i] donde X[i] es cero"
   ]
  },
  {
   "cell_type": "markdown",
   "metadata": {},
   "source": [
    "### Gráfica Coste en función del alpha"
   ]
  },
  {
   "cell_type": "markdown",
   "metadata": {},
   "source": [
    "TODO: DIBUJARLO"
   ]
  },
  {
   "cell_type": "markdown",
   "metadata": {},
   "source": [
    "### Cálculo con la ecuación normal"
   ]
  },
  {
   "cell_type": "code",
   "execution_count": 117,
   "metadata": {},
   "outputs": [],
   "source": [
    "def normal(X, Y):\n",
    "    x_transpose = np.transpose(X)\n",
    "    x_transpose_dot_x = x_transpose.dot(X)\n",
    "    term_1 = np.linalg.pinv(x_transpose_dot_x)\n",
    "    term_2 = x_transpose.dot(Y)\n",
    "    return term_1.dot(term_2)"
   ]
  },
  {
   "cell_type": "code",
   "execution_count": 118,
   "metadata": {},
   "outputs": [],
   "source": [
    "normal_result = normal(X,Y)\n",
    "gradient_result = gradient_descent_multiple_variables(X,Y)"
   ]
  },
  {
   "cell_type": "code",
   "execution_count": 119,
   "metadata": {},
   "outputs": [],
   "source": [
    "pred_normal = normal_result[0] * 1650 + normal_result[1] * 3\n",
    "pred_gradient = gradient_result[0] * 1650 + gradient_result[1] * 3"
   ]
  },
  {
   "cell_type": "code",
   "execution_count": 120,
   "metadata": {},
   "outputs": [
    {
     "name": "stdout",
     "output_type": "stream",
     "text": [
      "Para un piso con 3 habitaciones y una superficie de 1650 m² es:\n",
      "Ecuación Normal: -6424.459348282107\n",
      "Método Descenso de Gradiente 101.44696719826716\n"
     ]
    }
   ],
   "source": [
    "print(\"Para un piso con 3 habitaciones y una superficie de 1650 m² es:\")\n",
    "print(\"Ecuación Normal: {}\".format(pred_normal))\n",
    "print(\"Método Descenso de Gradiente {}\".format(pred_gradient))"
   ]
  },
  {
   "cell_type": "markdown",
   "metadata": {},
   "source": [
    "TODO: DEBERIAN SER IGUALES"
   ]
  },
  {
   "cell_type": "code",
   "execution_count": null,
   "metadata": {},
   "outputs": [],
   "source": []
  }
 ],
 "metadata": {
  "kernelspec": {
   "display_name": "Python 3",
   "language": "python",
   "name": "python3"
  },
  "language_info": {
   "codemirror_mode": {
    "name": "ipython",
    "version": 3
   },
   "file_extension": ".py",
   "mimetype": "text/x-python",
   "name": "python",
   "nbconvert_exporter": "python",
   "pygments_lexer": "ipython3",
   "version": "3.7.3"
  }
 },
 "nbformat": 4,
 "nbformat_minor": 2
}
