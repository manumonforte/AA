{
 "nbformat": 4,
 "nbformat_minor": 2,
 "metadata": {
  "language_info": {
   "name": "python",
   "codemirror_mode": {
    "name": "ipython",
    "version": 3
   }
  },
  "orig_nbformat": 2,
  "file_extension": ".py",
  "mimetype": "text/x-python",
  "name": "python",
  "npconvert_exporter": "python",
  "pygments_lexer": "ipython3",
  "version": 3,
  "kernelspec": {
   "name": "python37464bitbaseconda1ccf0e6cbe0749e28d304e35d4c9b772",
   "display_name": "Python 3.7.4 64-bit ('base': conda)"
  }
 },
 "cells": [
  {
   "cell_type": "markdown",
   "metadata": {},
   "source": [
    "# Practica 3: Regresión logística multi-clase y redes neuronales"
   ]
  },
  {
   "cell_type": "code",
   "execution_count": 178,
   "metadata": {},
   "outputs": [],
   "source": [
    "# Library imports\n",
    "\n",
    "import numpy as np\n",
    "from pandas.io.parsers import read_csv\n",
    "from matplotlib import pyplot as plt\n",
    "from scipy.io import loadmat\n",
    "import scipy.optimize as opt\n",
    "import operator"
   ]
  },
  {
   "cell_type": "markdown",
   "metadata": {},
   "source": [
    "## Parte 1: Regresión logística multi-clase"
   ]
  },
  {
   "cell_type": "code",
   "execution_count": 144,
   "metadata": {},
   "outputs": [],
   "source": [
    "data = loadmat('ex3data1.mat')\n",
    "\n",
    "y = data['y'].ravel()\n",
    "X = data['X']\n",
    "\n",
    "m = np.shape(X)[0]"
   ]
  },
  {
   "cell_type": "code",
   "execution_count": 145,
   "metadata": {},
   "outputs": [
    {
     "output_type": "execute_result",
     "data": {
      "text/plain": "(-0.5, 199.5, 19.5, -0.5)"
     },
     "metadata": {},
     "execution_count": 145
    },
    {
     "output_type": "display_data",
     "data": {
      "text/plain": "<Figure size 432x288 with 1 Axes>",
      "image/svg+xml": "<?xml version=\"1.0\" encoding=\"utf-8\" standalone=\"no\"?>\r\n<!DOCTYPE svg PUBLIC \"-//W3C//DTD SVG 1.1//EN\"\r\n  \"http://www.w3.org/Graphics/SVG/1.1/DTD/svg11.dtd\">\r\n<!-- Created with matplotlib (https://matplotlib.org/) -->\r\n<svg height=\"47.88pt\" version=\"1.1\" viewBox=\"0 0 349.2 47.88\" width=\"349.2pt\" xmlns=\"http://www.w3.org/2000/svg\" xmlns:xlink=\"http://www.w3.org/1999/xlink\">\r\n <defs>\r\n  <style type=\"text/css\">\r\n*{stroke-linecap:butt;stroke-linejoin:round;}\r\n  </style>\r\n </defs>\r\n <g id=\"figure_1\">\r\n  <g id=\"patch_1\">\r\n   <path d=\"M 0 47.88 \r\nL 349.2 47.88 \r\nL 349.2 0 \r\nL 0 0 \r\nz\r\n\" style=\"fill:none;\"/>\r\n  </g>\r\n  <g id=\"axes_1\">\r\n   <g clip-path=\"url(#pe07be66202)\">\r\n    <image height=\"34\" id=\"imagef8d7067109\" transform=\"scale(1 -1)translate(0 -34)\" width=\"335\" x=\"7.2\" xlink:href=\"data:image/png;base64,\r\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\" y=\"-6.68\"/>\r\n   </g>\r\n  </g>\r\n </g>\r\n <defs>\r\n  <clipPath id=\"pe07be66202\">\r\n   <rect height=\"33.48\" width=\"334.8\" x=\"7.2\" y=\"7.2\"/>\r\n  </clipPath>\r\n </defs>\r\n</svg>\r\n",
      "image/png": "[encoded data removed]"
     },
     "metadata": {
      "needs_background": "light"
     }
    }
   ],
   "source": [
    "sample = np.random.choice(X.shape[0], 10)\n",
    "plt.imshow(X[sample, :].reshape(-1, 20).T)\n",
    "plt.axis('off')"
   ]
  },
  {
   "cell_type": "markdown",
   "metadata": {},
   "source": [
    "### Regresión logística"
   ]
  },
  {
   "cell_type": "code",
   "execution_count": 150,
   "metadata": {},
   "outputs": [],
   "source": [
    "def sigmoid(X):\n",
    "    return 1 / (1 + np.exp(-X))\n",
    "\n",
    "def log_regresion_cost(thetas, X, Y):\n",
    "    sigmoid_X_theta = sigmoid(np.matmul(X,thetas))\n",
    "    \n",
    "    term_1 = np.matmul(np.transpose(np.log(sigmoid_X_theta)), Y)\n",
    "    \n",
    "    term_2 = np.matmul(np.transpose(np.log((1- sigmoid_X_theta))),(1-Y))\n",
    "    \n",
    "    return - (term_1 + term_2) / np.shape(X)[0]\n",
    "\n",
    "def log_regresion_gradient(thetas, X, Y):\n",
    "    sigmoid_X_theta = sigmoid(np.matmul(X,thetas))\n",
    "    \n",
    "    return np.matmul(np.transpose(X),(sigmoid_X_theta - Y)) /  np.shape(X)[0]\n",
    "\n",
    "###############\n",
    "\n",
    "\n",
    "def log_regresion_regularized_cost(thetas, X, Y, Lambda):\n",
    "    sigmoid_X_theta = sigmoid(np.matmul(X, thetas))\n",
    "    \n",
    "    term_1_1 = np.matmul(np.transpose(np.log(sigmoid_X_theta)), Y)\n",
    "    term_1_2 = np.matmul(np.transpose(np.log((1 - sigmoid_X_theta))),(1-Y))\n",
    "    \n",
    "    term_1 = - (term_1_1 + term_1_2) / np.shape(X)[0]\n",
    "    term_2 = Lambda/(2*m) * sum(thetas **2)\n",
    "    \n",
    "    return term_1 + term_2\n",
    "\n",
    "def log_regresion_regularized_gradient(thetas, X, Y, Lambda):\n",
    "    sigmoid_X_theta = sigmoid(np.matmul(X,thetas))\n",
    "    \n",
    "    term_1 = np.matmul(np.transpose(X),(sigmoid_X_theta - Y)) /  np.shape(X)[0]\n",
    "    term_2 = (Lambda/m) * thetas\n",
    "\n",
    "    return term_1 + term_2\n",
    ""
   ]
  },
  {
   "cell_type": "code",
   "execution_count": 155,
   "metadata": {},
   "outputs": [],
   "source": [
    "def oneVsAll(X, Y, num_etiquetas, reg):\n",
    "    \"\"\" \n",
    "    oneVsAll entrena varios clasificadores por reg resión logística con términode  regularización ’reg’ y devuelve el resultado en una matriz, donde la fila i−ésima corresponde          al clasificador de la etiqueta i−ésima\n",
    "    \"\"\"\n",
    "    classifiers = np.zeros(shape=(10, 400))\n",
    "\n",
    "    for label in range(1, num_etiquetas + 1):\n",
    "         filtered_labels = (Y == label) * 1\n",
    "        \n",
    "         thetas = np.zeros(np.shape(X)[1])\n",
    "         classifiers[label - 1] = opt.fmin_tnc(func=log_regresion_regularized_cost, x0= thetas, fprime=log_regresion_regularized_gradient, args=(X, filtered_labels, reg))[0]\n",
    "    \n",
    "    return classifiers"
   ]
  },
  {
   "cell_type": "code",
   "execution_count": 157,
   "metadata": {
    "tags": [
     "outputPrepend",
     "outputPrepend",
     "outputPrepend",
     "outputPrepend",
     "outputPrepend",
     "outputPrepend",
     "outputPrepend",
     "outputPrepend",
     "outputPrepend",
     "outputPrepend",
     "outputPrepend",
     "outputPrepend",
     "outputPrepend",
     "outputPrepend",
     "outputPrepend",
     "outputPrepend",
     "outputPrepend",
     "outputPrepend",
     "outputPrepend",
     "outputPrepend",
     "outputPrepend",
     "outputPrepend",
     "outputPrepend",
     "outputPrepend",
     "outputPrepend",
     "outputPrepend",
     "outputPrepend",
     "outputPrepend",
     "outputPrepend",
     "outputPrepend",
     "outputPrepend",
     "outputPrepend",
     "outputPrepend",
     "outputPrepend",
     "outputPrepend"
    ]
   },
   "outputs": [
    {
     "output_type": "stream",
     "name": "stdout",
     "text": "(10, 400)\n"
    }
   ],
   "source": [
    "classifiers = oneVsAll(X, y, 10, 0.1)"
   ]
  },
  {
   "cell_type": "code",
   "execution_count": 181,
   "metadata": {},
   "outputs": [],
   "source": [
    "def predict(X, classifiers):\n",
    "    predictions = {}\n",
    "    Y_pred = []\n",
    "    for image in range(np.shape(X)[0]):\n",
    "        for i in range(classifiers.shape[0]):\n",
    "            theta_opt = classifiers[i]\n",
    "            label = i + 1\n",
    "\n",
    "            prediction = round(sigmoid(np.matmul(np.transpose(theta_opt), X[image])), 4)\n",
    "            predictions[label] = prediction\n",
    "        \n",
    "        Y_pred.append(max(predictions.items(), key=operator.itemgetter(1))[0])\n",
    "\n",
    "    return Y_pred"
   ]
  },
  {
   "cell_type": "code",
   "execution_count": 195,
   "metadata": {},
   "outputs": [
    {
     "output_type": "stream",
     "name": "stdout",
     "text": "El porcentaje de acierto del modelo es: 95.88%\n"
    }
   ],
   "source": [
    "def get_acurracy(Y, Y_pred):\n",
    "    return np.sum((Y == np.array(Y_pred))) / m\n",
    "\n",
    "print(\"El porcentaje de acierto del modelo es: {}%\".format(get_acurracy(y, predict(X, classifiers)) * 100))"
   ]
  },
  {
   "cell_type": "markdown",
   "metadata": {},
   "source": [
    "## Redes neuronales"
   ]
  },
  {
   "cell_type": "code",
   "execution_count": 198,
   "metadata": {},
   "outputs": [],
   "source": [
    "# Weights loading\n",
    "weights = loadmat('ex3weights.mat')\n",
    "theta1, theta2 = weights['Theta1'], weights['Theta2']"
   ]
  }
 ]
}