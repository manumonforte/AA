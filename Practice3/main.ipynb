{
 "nbformat": 4,
 "nbformat_minor": 2,
 "metadata": {
  "language_info": {
   "name": "python",
   "codemirror_mode": {
    "name": "ipython",
    "version": 3
   },
   "version": "3.7.4-final"
  },
  "orig_nbformat": 2,
  "file_extension": ".py",
  "mimetype": "text/x-python",
  "name": "python",
  "npconvert_exporter": "python",
  "pygments_lexer": "ipython3",
  "version": 3,
  "kernelspec": {
   "name": "python37464bitbaseconda1ccf0e6cbe0749e28d304e35d4c9b772",
   "display_name": "Python 3.7.4 64-bit ('base': conda)"
  }
 },
 "cells": [
  {
   "cell_type": "markdown",
   "metadata": {},
   "source": [
    "# Practica 3: Regresión logística multi-clase y redes neuronales"
   ]
  },
  {
   "cell_type": "code",
   "execution_count": 1,
   "metadata": {},
   "outputs": [],
   "source": [
    "# Library imports\n",
    "\n",
    "import numpy as np\n",
    "from pandas.io.parsers import read_csv\n",
    "from matplotlib import pyplot as plt\n",
    "from scipy.io import loadmat\n",
    "import scipy.optimize as opt\n",
    "import operator"
   ]
  },
  {
   "cell_type": "markdown",
   "metadata": {},
   "source": [
    "## Parte 1: Regresión logística multi-clase"
   ]
  },
  {
   "cell_type": "code",
   "execution_count": 2,
   "metadata": {},
   "outputs": [],
   "source": [
    "data = loadmat('ex3data1.mat')\n",
    "\n",
    "y = data['y'].ravel()\n",
    "X = data['X']\n",
    "\n",
    "m = np.shape(X)[0]"
   ]
  },
  {
   "cell_type": "code",
   "execution_count": 10,
   "metadata": {},
   "outputs": [
    {
     "output_type": "execute_result",
     "data": {
      "text/plain": "(-0.5, 199.5, 19.5, -0.5)"
     },
     "metadata": {},
     "execution_count": 10
    },
    {
     "output_type": "display_data",
     "data": {
      "text/plain": "<Figure size 432x288 with 1 Axes>",
      "image/svg+xml": "<?xml version=\"1.0\" encoding=\"utf-8\" standalone=\"no\"?>\r\n<!DOCTYPE svg PUBLIC \"-//W3C//DTD SVG 1.1//EN\"\r\n  \"http://www.w3.org/Graphics/SVG/1.1/DTD/svg11.dtd\">\r\n<!-- Created with matplotlib (https://matplotlib.org/) -->\r\n<svg height=\"47.88pt\" version=\"1.1\" viewBox=\"0 0 349.2 47.88\" width=\"349.2pt\" xmlns=\"http://www.w3.org/2000/svg\" xmlns:xlink=\"http://www.w3.org/1999/xlink\">\r\n <defs>\r\n  <style type=\"text/css\">\r\n*{stroke-linecap:butt;stroke-linejoin:round;}\r\n  </style>\r\n </defs>\r\n <g id=\"figure_1\">\r\n  <g id=\"patch_1\">\r\n   <path d=\"M 0 47.88 \r\nL 349.2 47.88 \r\nL 349.2 0 \r\nL 0 0 \r\nz\r\n\" style=\"fill:none;\"/>\r\n  </g>\r\n  <g id=\"axes_1\">\r\n   <g clip-path=\"url(#p24098c6778)\">\r\n    <image height=\"34\" id=\"imagef3b195440f\" transform=\"scale(1 -1)translate(0 -34)\" width=\"335\" x=\"7.2\" xlink:href=\"data:image/png;base64,\r\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\" y=\"-6.68\"/>\r\n   </g>\r\n  </g>\r\n </g>\r\n <defs>\r\n  <clipPath id=\"p24098c6778\">\r\n   <rect height=\"33.48\" width=\"334.8\" x=\"7.2\" y=\"7.2\"/>\r\n  </clipPath>\r\n </defs>\r\n</svg>\r\n",
      "image/png": "[encoded data removed]"
     },
     "metadata": {
      "needs_background": "light"
     }
    }
   ],
   "source": [
    "# 10 random digits\n",
    "sample = np.random.choice(X.shape[0], 10)\n",
    "plt.imshow(X[sample, :].reshape(-1, 20).T)\n",
    "plt.axis('off')"
   ]
  },
  {
   "cell_type": "markdown",
   "metadata": {},
   "source": [
    "### Regresión logística (Práctica 2)"
   ]
  },
  {
   "cell_type": "code",
   "execution_count": 4,
   "metadata": {},
   "outputs": [],
   "source": [
    "def sigmoid(X):\n",
    "    return 1 / (1 + np.exp(-X))\n",
    "\n",
    "def log_regresion_cost(thetas, X, Y):\n",
    "    sigmoid_X_theta = sigmoid(np.matmul(X,thetas))\n",
    "    \n",
    "    term_1 = np.matmul(np.transpose(np.log(sigmoid_X_theta)), Y)\n",
    "    \n",
    "    term_2 = np.matmul(np.transpose(np.log((1- sigmoid_X_theta))),(1-Y))\n",
    "    \n",
    "    return - (term_1 + term_2) / np.shape(X)[0]\n",
    "\n",
    "def log_regresion_gradient(thetas, X, Y):\n",
    "    sigmoid_X_theta = sigmoid(np.matmul(X,thetas))\n",
    "    \n",
    "    return np.matmul(np.transpose(X),(sigmoid_X_theta - Y)) /  np.shape(X)[0]\n",
    "\n",
    "###############\n",
    "\n",
    "\n",
    "def log_regresion_regularized_cost(thetas, X, Y, Lambda):\n",
    "    sigmoid_X_theta = sigmoid(np.matmul(X, thetas))\n",
    "    \n",
    "    term_1_1 = np.matmul(np.transpose(np.log(sigmoid_X_theta)), Y)\n",
    "    term_1_2 = np.matmul(np.transpose(np.log((1 - sigmoid_X_theta))),(1-Y))\n",
    "    \n",
    "    term_1 = - (term_1_1 + term_1_2) / np.shape(X)[0]\n",
    "    term_2 = Lambda/(2*m) * sum(thetas **2)\n",
    "    \n",
    "    return term_1 + term_2\n",
    "\n",
    "def log_regresion_regularized_gradient(thetas, X, Y, Lambda):\n",
    "    sigmoid_X_theta = sigmoid(np.matmul(X,thetas))\n",
    "    \n",
    "    term_1 = np.matmul(np.transpose(X),(sigmoid_X_theta - Y)) /  np.shape(X)[0]\n",
    "    term_2 = (Lambda/m) * thetas\n",
    "\n",
    "    return term_1 + term_2\n",
    ""
   ]
  },
  {
   "cell_type": "code",
   "execution_count": 5,
   "metadata": {},
   "outputs": [],
   "source": [
    "def oneVsAll(X, Y, num_etiquetas, reg):\n",
    "    \"\"\" \n",
    "    oneVsAll entrena varios clasificadores por reg resión logística con términode  regularización ’reg’ y devuelve el resultado en una matriz, donde la fila i−ésima corresponde          al clasificador de la etiqueta i−ésima\n",
    "    \"\"\"\n",
    "    classifiers = np.zeros(shape=(10, 400))\n",
    "\n",
    "    for label in range(1, num_etiquetas + 1):\n",
    "         filtered_labels = (Y == label) * 1\n",
    "        \n",
    "         thetas = np.zeros(np.shape(X)[1])\n",
    "         classifiers[label - 1] = opt.fmin_tnc(func=log_regresion_regularized_cost, x0= thetas, fprime=log_regresion_regularized_gradient, args=(X, filtered_labels, reg))[0]\n",
    "    \n",
    "    return classifiers"
   ]
  },
  {
   "cell_type": "code",
   "execution_count": 6,
   "metadata": {
    "tags": [
     "outputPrepend",
     "outputPrepend",
     "outputPrepend",
     "outputPrepend",
     "outputPrepend",
     "outputPrepend",
     "outputPrepend",
     "outputPrepend",
     "outputPrepend",
     "outputPrepend",
     "outputPrepend",
     "outputPrepend",
     "outputPrepend",
     "outputPrepend",
     "outputPrepend",
     "outputPrepend",
     "outputPrepend",
     "outputPrepend",
     "outputPrepend",
     "outputPrepend",
     "outputPrepend",
     "outputPrepend",
     "outputPrepend",
     "outputPrepend",
     "outputPrepend",
     "outputPrepend",
     "outputPrepend",
     "outputPrepend",
     "outputPrepend",
     "outputPrepend",
     "outputPrepend",
     "outputPrepend",
     "outputPrepend",
     "outputPrepend",
     "outputPrepend"
    ]
   },
   "outputs": [],
   "source": [
    "classifiers = oneVsAll(X, y, 10, 0.1)"
   ]
  },
  {
   "cell_type": "code",
   "execution_count": 7,
   "metadata": {},
   "outputs": [],
   "source": [
    "def predict(X, classifiers):\n",
    "    predictions = {}\n",
    "    Y_pred = []\n",
    "    for image in range(np.shape(X)[0]):\n",
    "        for i in range(classifiers.shape[0]):\n",
    "            theta_opt = classifiers[i]\n",
    "            label = i + 1\n",
    "\n",
    "            prediction = round(sigmoid(np.matmul(np.transpose(theta_opt), X[image])), 4)\n",
    "            predictions[label] = prediction\n",
    "        \n",
    "        Y_pred.append(max(predictions.items(), key=operator.itemgetter(1))[0])\n",
    "\n",
    "    return Y_pred"
   ]
  },
  {
   "cell_type": "code",
   "execution_count": 8,
   "metadata": {},
   "outputs": [
    {
     "output_type": "stream",
     "name": "stdout",
     "text": "El porcentaje de acierto del modelo es: 95.88%\n"
    }
   ],
   "source": [
    "def get_acurracy(Y, Y_pred):\n",
    "    return np.sum((Y == np.array(Y_pred))) / m\n",
    "\n",
    "print(\"El porcentaje de acierto del modelo es: {}%\".format(get_acurracy(y, predict(X, classifiers)) * 100))"
   ]
  },
  {
   "cell_type": "markdown",
   "metadata": {},
   "source": [
    "## Redes neuronales"
   ]
  },
  {
   "cell_type": "code",
   "execution_count": 9,
   "metadata": {},
   "outputs": [],
   "source": [
    "# Weights loading\n",
    "weights = loadmat('ex3weights.mat')\n",
    "theta1, theta2 = weights['Theta1'], weights['Theta2']"
   ]
  },
  {
   "cell_type": "code",
   "execution_count": 11,
   "metadata": {},
   "outputs": [],
   "source": [
    "# Forward propagation\n",
    "def forward_propagate(X, theta1, theta2):\n",
    "    m = X.shape[0]\n",
    "\n",
    "    a1 = np.hstack([np.ones([m, 1]), X])\n",
    "    z2 = np.dot(a1, theta1.T)\n",
    "    a2 = np.hstack([np.ones([m, 1]), sigmoid(z2)])\n",
    "    z3 = np.dot(a2, theta2.T)\n",
    "    h = sigmoid(z3)\n",
    "\n",
    "    return a1, z2, a2, z3, h"
   ]
  },
  {
   "cell_type": "code",
   "execution_count": 28,
   "metadata": {},
   "outputs": [
    {
     "output_type": "stream",
     "name": "stdout",
     "text": "El porcentaje de acierto del modelo es: 97.52%\n"
    }
   ],
   "source": [
    "results = forward_propagate(X, theta1, theta2)\n",
    "\n",
    "def predict_nn(X, h):\n",
    "    return [(np.argmax(h[image]) + 1) for image in range(X.shape[0])]\n",
    "\n",
    "print(\"El porcentaje de acierto del modelo es: {}%\".format(get_acurracy(y, predict_nn(X, results[4])) * 100))"
   ]
  }
 ]
}