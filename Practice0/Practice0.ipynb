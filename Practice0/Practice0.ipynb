{
 "cells": [
  {
   "cell_type": "markdown",
   "metadata": {},
   "source": [
    "# Practice 0 : Monte Carlo integration"
   ]
  },
  {
   "cell_type": "code",
   "execution_count": 271,
   "metadata": {},
   "outputs": [],
   "source": [
    "import numpy as np\n",
    "import random\n",
    "from matplotlib import pyplot as plt\n",
    "import time\n",
    "from scipy import integrate"
   ]
  },
  {
   "cell_type": "markdown",
   "metadata": {},
   "source": [
    "### Loops Implementation"
   ]
  },
  {
   "cell_type": "code",
   "execution_count": 335,
   "metadata": {},
   "outputs": [],
   "source": [
    "def integrate_mc(fun, a, b, points=10):\n",
    "    \"\"\"Calculates the integral of the function passed by argument using x\n",
    "    points through the Monte Carlo method\"\"\"\n",
    "    \n",
    "    tic = time.process_time()\n",
    "    \n",
    "    # Inicializate vars\n",
    "    M = 0\n",
    "    dots_under = 0\n",
    "    \n",
    "    # Generate points in the functon and get M\n",
    "    for i in range(points):\n",
    "        M = max(M,fun(random.uniform(a, b)))\n",
    "            \n",
    "    # Generate random points between [a,b] and [0.M]\n",
    "    random_x = []\n",
    "    random_y = []\n",
    "    for i in range(points):\n",
    "        random_x.append(random.uniform(a, b))\n",
    "        random_y.append(random.uniform(0, M))\n",
    "    random_dots = zip(random_x,random_y)\n",
    "    \n",
    "    #Get points under the graphic                  \n",
    "    for val in random_dots:\n",
    "        if val[1] < fun(val[0]) :\n",
    "            dots_under = dots_under+1\n",
    "    \n",
    "    #Get area under the graphic\n",
    "    area = (dots_under/points) * (b-a) * M\n",
    "    \n",
    "    toc = time.process_time()\n",
    "    \n",
    "    return area"
   ]
  },
  {
   "cell_type": "code",
   "execution_count": 336,
   "metadata": {},
   "outputs": [],
   "source": [
    "x2 = lambda x: x**2\n",
    "x = lambda x: x"
   ]
  },
  {
   "cell_type": "code",
   "execution_count": 341,
   "metadata": {},
   "outputs": [
    {
     "name": "stdout",
     "output_type": "stream",
     "text": [
      "Area of f(x) = x in [0,4] is: \n",
      "\n",
      "Scipy method: 7.99853540156347 \n",
      "Monte Carlo Method 8.0 \n"
     ]
    }
   ],
   "source": [
    "print(\"Area of f(x) = x in [0,4] is: \\n\")\n",
    "print(\"Scipy method: {} \".format(integrate_mc(x,0.0,4.0,100000)))\n",
    "print(\"Monte Carlo Method {} \".format(integrate.quad(x, 0, 4)[0]))"
   ]
  },
  {
   "cell_type": "code",
   "execution_count": 343,
   "metadata": {},
   "outputs": [
    {
     "name": "stdout",
     "output_type": "stream",
     "text": [
      "Area of f(x) = x² in [0,4] with 100000 points is: \n",
      "\n",
      "Scipy method: 21.28497071623495 \n",
      "Monte Carlo Method 21.333333333333336 \n"
     ]
    }
   ],
   "source": [
    "print(\"Area of f(x) = x² in [0,4] with 100000 points is: \\n\")\n",
    "print(\"Scipy method: {} \".format(integrate_mc(x2,0.0,4.0,100000)))\n",
    "print(\"Monte Carlo Method {} \".format(integrate.quad(x2, 0, 4)[0]))"
   ]
  }
 ],
 "metadata": {
  "kernelspec": {
   "display_name": "Python 3",
   "language": "python",
   "name": "python3"
  },
  "language_info": {
   "codemirror_mode": {
    "name": "ipython",
    "version": 3
   },
   "file_extension": ".py",
   "mimetype": "text/x-python",
   "name": "python",
   "nbconvert_exporter": "python",
   "pygments_lexer": "ipython3",
   "version": "3.7.3"
  }
 },
 "nbformat": 4,
 "nbformat_minor": 2
}
