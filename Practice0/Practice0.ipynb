{
 "cells": [
  {
   "cell_type": "markdown",
   "metadata": {},
   "source": [
    "# Practice 0 : Monte Carlo integration"
   ]
  },
  {
   "cell_type": "code",
   "execution_count": 1,
   "metadata": {},
   "outputs": [],
   "source": [
    "import numpy as np\n",
    "import random\n",
    "from matplotlib import pyplot as plt\n",
    "import time\n",
    "from scipy import integrate"
   ]
  },
  {
   "cell_type": "markdown",
   "metadata": {},
   "source": [
    "### Loops Implementation"
   ]
  },
  {
   "cell_type": "code",
   "execution_count": 2,
   "metadata": {},
   "outputs": [],
   "source": [
    "def integrate_mc_loops(fun, a, b, points=10):\n",
    "    \"\"\"Calculates the integral of the function passed by argument using x\n",
    "    points through the Monte Carlo method\"\"\"\n",
    "    \n",
    "    tic = time.process_time()\n",
    "    \n",
    "    # Inicializate vars\n",
    "    M = 0\n",
    "    dots_under = 0\n",
    "    \n",
    "    # Generate points in the functon and get M\n",
    "    for i in range(points):\n",
    "        M = max(M,fun(random.uniform(a, b)))\n",
    "            \n",
    "    # Generate random points between [a,b] and [0.M]\n",
    "    random_dots = []\n",
    "    for i in range(points):\n",
    "        random_dots.append((random.uniform(a, b),random.uniform(0, M)))\n",
    "                           \n",
    "    #Get points under the graphic                  \n",
    "    for val in random_dots:\n",
    "        if val[1] < fun(val[0]) :\n",
    "            dots_under = dots_under+1\n",
    "    \n",
    "    #Get area under the graphic\n",
    "    area = (dots_under/points) * (b-a) * M\n",
    "    \n",
    "    toc = time.process_time()\n",
    "    \n",
    "    return (area, (toc-tic)*1000)"
   ]
  },
  {
   "cell_type": "code",
   "execution_count": 3,
   "metadata": {},
   "outputs": [
    {
     "name": "stdout",
     "output_type": "stream",
     "text": [
      "Area of f(x) = x in [0,4] is: \n",
      "\n",
      "Monte Carlo Method 8.00891761068056 \n",
      "Scipy method: 8.0 \n"
     ]
    }
   ],
   "source": [
    "print(\"Area of f(x) = x in [0,4] is: \\n\")\n",
    "print(\"Monte Carlo Method {} \".format(integrate_mc_loops(lambda x: x,0.0,4.0,100000)[0]))\n",
    "print(\"Scipy method: {} \".format(integrate.quad(lambda x: x, 0, 4)[0]))"
   ]
  },
  {
   "cell_type": "code",
   "execution_count": 7,
   "metadata": {},
   "outputs": [
    {
     "name": "stdout",
     "output_type": "stream",
     "text": [
      "Area of f(x) = x² in [0,4] with 100000 points is: \n",
      "\n",
      "Monte Carlo Method 21.32955955967978 \n",
      "Scipy method: 21.333333333333336 \n"
     ]
    }
   ],
   "source": [
    "print(\"Area of f(x) = x² in [0,4] with 100000 points is: \\n\")\n",
    "print(\"Monte Carlo Method {} \".format(integrate_mc_loops(lambda x: x**2,0.0,4.0,100000)[0]))\n",
    "print(\"Scipy method: {} \".format(integrate.quad(lambda x: x**2, 0, 4)[0]))"
   ]
  },
  {
   "cell_type": "markdown",
   "metadata": {},
   "source": [
    "### Numpy Implementation"
   ]
  },
  {
   "cell_type": "code",
   "execution_count": 8,
   "metadata": {},
   "outputs": [],
   "source": [
    "def integrate_mc_numpy(fun, a, b, points=10):\n",
    "    \"\"\"Calculates the integral of the function passed by argument using x\n",
    "    points through the Monte Carlo method\"\"\"\n",
    "    \n",
    "    tic = time.process_time()\n",
    "    \n",
    "    # Inicializate vars\n",
    "    M = 0\n",
    "    dots_under = 0\n",
    "    \n",
    "    # Generate points in the functon and get M\n",
    "    M = np.max(fun(np.random.uniform(a,b,points)))\n",
    "            \n",
    "    # Generate random points between [a,b] and [0.M]\n",
    "    random_dots_x = np.random.uniform(a, b, points)\n",
    "    random_dots_y = np.random.uniform(0, M, points)\n",
    "                           \n",
    "    #Get points under the graphic  \n",
    "    dots_under = random_dots_y[random_dots_y < fun(random_dots_x)]\n",
    "               \n",
    "    #Get area under the graphic\n",
    "    area = (len(dots_under)/points) * (b-a) * M\n",
    "    \n",
    "    toc = time.process_time()\n",
    "    \n",
    "    return (area, (toc-tic)*1000)"
   ]
  },
  {
   "cell_type": "code",
   "execution_count": 9,
   "metadata": {},
   "outputs": [
    {
     "name": "stdout",
     "output_type": "stream",
     "text": [
      "Area of f(x) = x in [0,4] is: \n",
      "\n",
      "Monte Carlo Method 7.990830806098692 \n",
      "Scipy method: 8.0 \n"
     ]
    }
   ],
   "source": [
    "print(\"Area of f(x) = x in [0,4] is: \\n\")\n",
    "print(\"Monte Carlo Method {} \".format(integrate_mc_numpy(lambda x: x,0.0,4.0,100000)[0]))\n",
    "print(\"Scipy method: {} \".format(integrate.quad(lambda x: x, 0, 4)[0]))"
   ]
  },
  {
   "cell_type": "code",
   "execution_count": 10,
   "metadata": {},
   "outputs": [
    {
     "name": "stdout",
     "output_type": "stream",
     "text": [
      "Area of f(x) = x² in [0,4] with 100000 points is: \n",
      "\n",
      "Monte Carlo Method 21.33677090572575 \n",
      "Scipy method: 21.333333333333336 \n"
     ]
    }
   ],
   "source": [
    "print(\"Area of f(x) = x² in [0,4] with 100000 points is: \\n\")\n",
    "print(\"Monte Carlo Method {} \".format(integrate_mc_numpy(lambda x: x**2,0.0,4.0,100000)[0]))\n",
    "print(\"Scipy method: {} \".format(integrate.quad(lambda x: x**2, 0, 4)[0]))"
   ]
  },
  {
   "cell_type": "code",
   "execution_count": 11,
   "metadata": {},
   "outputs": [],
   "source": [
    "def compare_times():\n",
    "    sizes = np.linspace(100,1000000,20)\n",
    "    times_loop = []\n",
    "    times_numpy = []\n",
    "    for size in sizes:\n",
    "        times_loop.append(integrate_mc_loops(lambda x: x**2,0,4,int(size))[1])\n",
    "        times_numpy.append(integrate_mc_numpy(lambda x: x**2,0,4,int(size))[1])\n",
    "    \n",
    "    plt.figure()\n",
    "    plt.scatter(sizes,times_loop,c=\"red\", label=\"Loop\")\n",
    "    plt.scatter(sizes,times_numpy, c=\"blue\", label =\"Numpy\")\n",
    "    plt.legend()"
   ]
  },
  {
   "cell_type": "code",
   "execution_count": 12,
   "metadata": {},
   "outputs": [
    {
     "data": {
      "image/png": "[encoded data removed]",
      "text/plain": [
       "<Figure size 432x288 with 1 Axes>"
      ]
     },
     "metadata": {
      "needs_background": "light"
     },
     "output_type": "display_data"
    }
   ],
   "source": [
    "compare_times()"
   ]
  }
 ],
 "metadata": {
  "kernelspec": {
   "display_name": "Python 3",
   "language": "python",
   "name": "python3"
  },
  "language_info": {
   "codemirror_mode": {
    "name": "ipython",
    "version": 3
   },
   "file_extension": ".py",
   "mimetype": "text/x-python",
   "name": "python",
   "nbconvert_exporter": "python",
   "pygments_lexer": "ipython3",
   "version": "3.7.2"
  }
 },
 "nbformat": 4,
 "nbformat_minor": 2
}
