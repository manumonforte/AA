{
 "cells": [
  {
   "cell_type": "markdown",
   "metadata": {},
   "source": [
    "# Practice 0 : Monte Carlo integration"
   ]
  },
  {
   "cell_type": "code",
   "execution_count": 180,
   "metadata": {},
   "outputs": [],
   "source": [
    "import numpy as np\n",
    "import random\n",
    "from matplotlib import pyplot as plt\n",
    "import time\n",
    "from scipy import integrate"
   ]
  },
  {
   "cell_type": "markdown",
   "metadata": {},
   "source": [
    "### Loops Implementation"
   ]
  },
  {
   "cell_type": "code",
   "execution_count": 181,
   "metadata": {},
   "outputs": [],
   "source": [
    "def integrate_mc_loops(fun, a, b, points=10):\n",
    "    \"\"\"Calculates the integral of the function passed by argument using x\n",
    "    points through the Monte Carlo method\"\"\"\n",
    "    \n",
    "    tic = time.process_time()\n",
    "    \n",
    "    # Inicializate vars\n",
    "    M = 0\n",
    "    dots_under = 0\n",
    "    \n",
    "    # Generate points in the functon and get M\n",
    "    for i in range(points):\n",
    "        M = max(M,fun(random.uniform(a, b)))\n",
    "    # Generate random points between [a,b] and [0,M]\n",
    "    random_x = []\n",
    "    random_y = []\n",
    "    for i in range(points):\n",
    "        random_x.append(random.uniform(a, b))\n",
    "        random_y.append(random.uniform(0, M))\n",
    "    random_dots = zip(random_x,random_y)\n",
    "    \n",
    "    #Get points under the graphic                  \n",
    "    for val in random_dots:\n",
    "        if val[1] < fun(val[0]) :\n",
    "            dots_under = dots_under+1\n",
    "    \n",
    "    #Get area under the graphic\n",
    "    area = (dots_under/points) * (b-a) * M\n",
    "    \n",
    "    toc = time.process_time()\n",
    "    \n",
    "    return area"
   ]
  },
  {
   "cell_type": "code",
   "execution_count": 182,
   "metadata": {},
   "outputs": [],
   "source": [
    "x2 = lambda x: x**2\n",
    "x = lambda x: x"
   ]
  },
  {
   "cell_type": "code",
   "execution_count": 183,
   "metadata": {},
   "outputs": [
    {
     "name": "stdout",
     "output_type": "stream",
     "text": [
      "Area of f(x) = x in [0,4] is: \n",
      "\n",
      "Monte Carlo Method: 8.021142657628204 \n",
      "Scipy method: 8.0 \n"
     ]
    }
   ],
   "source": [
    "print(\"Area of f(x) = x in [0,4] is: \\n\")\n",
    "print(\"Monte Carlo Method: {} \".format(integrate_mc_loops(x,0.0,4.0,100000)))\n",
    "print(\"Scipy method: {} \".format(integrate.quad(x, 0, 4)[0]))"
   ]
  },
  {
   "cell_type": "code",
   "execution_count": 184,
   "metadata": {},
   "outputs": [
    {
     "name": "stdout",
     "output_type": "stream",
     "text": [
      "Area of f(x) = x² in [0,4] with 100000 points is: \n",
      "\n",
      "Monte Carlo Method: 21.305784639849065 \n",
      "Scipy method: 21.333333333333336 \n"
     ]
    }
   ],
   "source": [
    "print(\"Area of f(x) = x² in [0,4] with 100000 points is: \\n\")\n",
    "print(\"Monte Carlo Method: {} \".format(integrate_mc_loops(x2,0.0,4.0,100000)))\n",
    "print(\"Scipy method: {} \".format(integrate.quad(x2, 0, 4)[0]))"
   ]
  },
  {
   "cell_type": "markdown",
   "metadata": {},
   "source": [
    "### Numpy Implementation"
   ]
  },
  {
   "cell_type": "code",
   "execution_count": 193,
   "metadata": {},
   "outputs": [],
   "source": [
    "def integrate_mc_numpy(fun, a, b, points=10):\n",
    "    \"\"\"Calculates the integral of the function passed by argument using x\n",
    "    points through the Monte Carlo method\"\"\"\n",
    "    \n",
    "    tic = time.process_time()\n",
    "    \n",
    "    # Inicializate vars\n",
    "    dots_under = 0\n",
    "    \n",
    "    # Generate points in the functon and get M\n",
    "    M = max(fun(np.linspace(a, b, points, endpoint=True)))\n",
    "    \n",
    "    # Generate random points between [a,b] and [0,M]\n",
    "    random_dots = (np.random.uniform(low=a, high=b, size=(points,)), np.random.uniform(low=0, high=M, size=(points,)))\n",
    "\n",
    "    #Get points under the graphic                  \n",
    "    dots_under = random_dots[1] < fun(random_dots[0])\n",
    "    \n",
    "    #Get area under the graphic\n",
    "    area = (np.sum(dots_under)/points) * (b-a) * M\n",
    "    \n",
    "    toc = time.process_time()\n",
    "    \n",
    "    return area"
   ]
  },
  {
   "cell_type": "code",
   "execution_count": 189,
   "metadata": {},
   "outputs": [
    {
     "name": "stdout",
     "output_type": "stream",
     "text": [
      "Area of f(x) = x in [0,4] is: \n",
      "\n",
      "Monte Carlo Method: 8.009072905639192 \n",
      "Scipy method: 8.0 \n"
     ]
    }
   ],
   "source": [
    "print(\"Area of f(x) = x in [0,4] is: \\n\")\n",
    "print(\"Monte Carlo Method: {} \".format(integrate_mc_loops(x,0.0,4,100000)))\n",
    "print(\"Scipy method: {} \".format(integrate.quad(x, 0, 4)[0]))"
   ]
  },
  {
   "cell_type": "code",
   "execution_count": 192,
   "metadata": {},
   "outputs": [
    {
     "name": "stdout",
     "output_type": "stream",
     "text": [
      "Area of f(x) = x² in [0,4] is: \n",
      "\n",
      "Monte Carlo Method 21.4016 \n",
      "Scipy method: 21.333333333333336 \n"
     ]
    }
   ],
   "source": [
    "print(\"Area of f(x) = x² in [0,4] is: \\n\")\n",
    "print(\"Monte Carlo Method {} \".format(integrate_mc_numpy(x2,0.0,4,100000)))\n",
    "print(\"Scipy method: {} \".format(integrate.quad(x2, 0, 4)[0]))"
   ]
  },
  {
   "cell_type": "markdown",
   "metadata": {},
   "source": [
    "### Time Diference"
   ]
  },
  {
   "cell_type": "code",
   "execution_count": null,
   "metadata": {},
   "outputs": [],
   "source": []
  }
 ],
 "metadata": {
  "kernelspec": {
   "display_name": "Python 3",
   "language": "python",
   "name": "python3"
  },
  "language_info": {
   "codemirror_mode": {
    "name": "ipython",
    "version": 3
   },
   "file_extension": ".py",
   "mimetype": "text/x-python",
   "name": "python",
   "nbconvert_exporter": "python",
   "pygments_lexer": "ipython3",
   "version": "3.7.2"
  }
 },
 "nbformat": 4,
 "nbformat_minor": 2
}
