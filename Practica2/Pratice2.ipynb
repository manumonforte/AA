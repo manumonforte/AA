{
 "cells": [
  {
   "cell_type": "markdown",
   "metadata": {},
   "source": [
    "# Práctica 02: Regresión Logística"
   ]
  },
  {
   "cell_type": "code",
   "execution_count": 1,
   "metadata": {},
   "outputs": [],
   "source": [
    "import numpy as np\n",
    "from pandas.io.parsers import read_csv\n",
    "from matplotlib import pyplot as plt\n",
    "import scipy.optimize as opt\n",
    "from sklearn.preprocessing import PolynomialFeatures"
   ]
  },
  {
   "cell_type": "code",
   "execution_count": 2,
   "metadata": {},
   "outputs": [],
   "source": [
    "def load_csv(file_name):\n",
    "    values = read_csv(file_name,header=None).values\n",
    "    return values.astype(float)"
   ]
  },
  {
   "cell_type": "code",
   "execution_count": 3,
   "metadata": {},
   "outputs": [],
   "source": [
    "data = load_csv(\"data/ex2data1.csv\")"
   ]
  },
  {
   "cell_type": "code",
   "execution_count": 4,
   "metadata": {},
   "outputs": [],
   "source": [
    "X = data[:,:-1] # Features\n",
    "Y = data[:, -1] # Target\n",
    "m = np.shape(X)[0] # number of rows"
   ]
  },
  {
   "cell_type": "code",
   "execution_count": 5,
   "metadata": {},
   "outputs": [
    {
     "name": "stdout",
     "output_type": "stream",
     "text": [
      "##################################################\n",
      "[[34.62365962 78.02469282  0.        ]\n",
      " [30.28671077 43.89499752  0.        ]\n",
      " [35.84740877 72.90219803  0.        ]\n",
      " [60.18259939 86.3085521   1.        ]\n",
      " [79.03273605 75.34437644  1.        ]]\n",
      "##################################################\n",
      "[[ 1.         34.62365962 78.02469282]\n",
      " [ 1.         30.28671077 43.89499752]\n",
      " [ 1.         35.84740877 72.90219803]\n",
      " [ 1.         60.18259939 86.3085521 ]\n",
      " [ 1.         79.03273605 75.34437644]]\n",
      "##################################################\n",
      "[0. 0. 0. 1. 1.]\n"
     ]
    }
   ],
   "source": [
    "print(\"#\" * 50)\n",
    "print(data[:5])\n",
    "print(\"#\" * 50)\n",
    "X=np.hstack([np.ones([m,1]), X])\n",
    "print(X[:5])\n",
    "print(\"#\" * 50)\n",
    "print(Y[:5])"
   ]
  },
  {
   "cell_type": "markdown",
   "metadata": {},
   "source": [
    "## 1.1 Visualización de Datos"
   ]
  },
  {
   "cell_type": "code",
   "execution_count": 6,
   "metadata": {},
   "outputs": [],
   "source": [
    "# Obtiene un vector con los índices  de  los  ejemplos  positivos\n",
    "pos_pass = np.where(Y == 1)\n",
    "pos_fail = np.where(Y == 0)"
   ]
  },
  {
   "cell_type": "code",
   "execution_count": 7,
   "metadata": {},
   "outputs": [
    {
     "data": {
      "text/plain": [
       "<matplotlib.collections.PathCollection at 0x7f84fab11278>"
      ]
     },
     "execution_count": 7,
     "metadata": {},
     "output_type": "execute_result"
    },
    {
     "data": {
      "image/png": "[encoded data removed]",
      "text/plain": [
       "<Figure size 432x288 with 1 Axes>"
      ]
     },
     "metadata": {
      "needs_background": "light"
     },
     "output_type": "display_data"
    }
   ],
   "source": [
    "#Dibuja los ejemplos positivos\n",
    "plt.scatter(X[pos_pass, 1], X[pos_pass, 2], marker =\"+\", c=\"lightgreen\")\n",
    "plt.scatter(X[pos_fail, 1], X[pos_fail, 2], marker =\".\", c=\"red\")"
   ]
  },
  {
   "cell_type": "markdown",
   "metadata": {},
   "source": [
    "## 1. 2 Función Sigmoide"
   ]
  },
  {
   "cell_type": "code",
   "execution_count": 8,
   "metadata": {},
   "outputs": [],
   "source": [
    "def sigmoid(X):\n",
    "    return 1 / (1 + np.exp(-X))"
   ]
  },
  {
   "cell_type": "markdown",
   "metadata": {},
   "source": [
    "## 1.3 Cálculo de la función de coste y su gradiente"
   ]
  },
  {
   "cell_type": "code",
   "execution_count": 9,
   "metadata": {},
   "outputs": [],
   "source": [
    "def cost(thetas, X, Y):\n",
    "    sigmoid_X_theta = sigmoid(np.matmul(X,thetas))\n",
    "    \n",
    "    term_1 = np.matmul(np.transpose(np.log(sigmoid_X_theta)), Y)\n",
    "    \n",
    "    term_2 = np.matmul(np.transpose(np.log((1- sigmoid_X_theta))),(1-Y))\n",
    "    \n",
    "    return - (term_1 + term_2) / np.shape(X)[0]"
   ]
  },
  {
   "cell_type": "code",
   "execution_count": 10,
   "metadata": {},
   "outputs": [],
   "source": [
    "def gradient(thetas, X, Y):\n",
    "    sigmoid_X_theta = sigmoid(np.matmul(X,thetas))\n",
    "    \n",
    "    return np.matmul(np.transpose(X),(sigmoid_X_theta - Y)) /  np.shape(X)[0]\n",
    "    "
   ]
  },
  {
   "cell_type": "code",
   "execution_count": 11,
   "metadata": {},
   "outputs": [],
   "source": [
    "thetas = np.zeros(np.shape(X)[1])"
   ]
  },
  {
   "cell_type": "code",
   "execution_count": 12,
   "metadata": {},
   "outputs": [
    {
     "data": {
      "text/plain": [
       "array([0., 0., 0.])"
      ]
     },
     "execution_count": 12,
     "metadata": {},
     "output_type": "execute_result"
    }
   ],
   "source": [
    "thetas"
   ]
  },
  {
   "cell_type": "code",
   "execution_count": 13,
   "metadata": {},
   "outputs": [
    {
     "data": {
      "text/plain": [
       "0.6931471805599452"
      ]
     },
     "execution_count": 13,
     "metadata": {},
     "output_type": "execute_result"
    }
   ],
   "source": [
    "cost(thetas, X, Y)"
   ]
  },
  {
   "cell_type": "code",
   "execution_count": 14,
   "metadata": {},
   "outputs": [
    {
     "data": {
      "text/plain": [
       "array([ -0.1       , -12.00921659, -11.26284221])"
      ]
     },
     "execution_count": 14,
     "metadata": {},
     "output_type": "execute_result"
    }
   ],
   "source": [
    "gradient(thetas, X, Y)"
   ]
  },
  {
   "cell_type": "markdown",
   "metadata": {},
   "source": [
    "## 1.4 Cálculo del valor óptimo de los parámetro"
   ]
  },
  {
   "cell_type": "code",
   "execution_count": 15,
   "metadata": {},
   "outputs": [],
   "source": [
    "result = opt.fmin_tnc(func=cost, x0= thetas, fprime=gradient, args=(X,Y))\n",
    "theta_opt = result[0]"
   ]
  },
  {
   "cell_type": "code",
   "execution_count": 16,
   "metadata": {},
   "outputs": [
    {
     "data": {
      "text/plain": [
       "0.20349770158947492"
      ]
     },
     "execution_count": 16,
     "metadata": {},
     "output_type": "execute_result"
    }
   ],
   "source": [
    "cost(theta_opt,X,Y)"
   ]
  },
  {
   "cell_type": "code",
   "execution_count": 17,
   "metadata": {},
   "outputs": [],
   "source": [
    "def draw_border(X, Y, theta):\n",
    "    plt.figure()\n",
    "    x1_min, x1_max = X[:, 1].min(), X[:, 2].max()\n",
    "    x2_min, x2_max = X[:, 1].min(), X[:, 2].max()\n",
    "    xx1, xx2 = np.meshgrid(np.linspace(x1_min, x1_max),\n",
    "    np.linspace(x2_min, x2_max))\n",
    "    h = sigmoid(np.c_[np.ones((xx1.ravel().shape[0], 1)),\n",
    "    xx1.ravel(),\n",
    "    xx2.ravel()].dot(theta))\n",
    "    h = h.reshape(xx1.shape)\n",
    "    plt.contour(xx1, xx2, h, [0.5], linewidths=1, colors='b')\n",
    "    plt.scatter(X[pos_pass, 1], X[pos_pass, 2], marker =\"+\", c=\"lightgreen\")\n",
    "    plt.scatter(X[pos_fail, 1], X[pos_fail, 2], marker =\".\", c=\"red\")\n",
    "    #plt.savefig(\"frontera.pdf\")\n",
    "    plt.show()\n",
    "    plt.close()"
   ]
  },
  {
   "cell_type": "code",
   "execution_count": 18,
   "metadata": {},
   "outputs": [
    {
     "data": {
      "image/png": "[encoded data removed]",
      "text/plain": [
       "<Figure size 432x288 with 1 Axes>"
      ]
     },
     "metadata": {
      "needs_background": "light"
     },
     "output_type": "display_data"
    }
   ],
   "source": [
    "draw_border(X,Y,theta_opt)"
   ]
  },
  {
   "cell_type": "markdown",
   "metadata": {},
   "source": [
    "## 1.5 Evaluación de la regresión logística"
   ]
  },
  {
   "cell_type": "code",
   "execution_count": 19,
   "metadata": {},
   "outputs": [
    {
     "name": "stdout",
     "output_type": "stream",
     "text": [
      "0.09103392917859199\n"
     ]
    }
   ],
   "source": [
    "print(sigmoid(np.matmul(np.transpose(theta_opt),X[0])))"
   ]
  },
  {
   "cell_type": "code",
   "execution_count": 20,
   "metadata": {},
   "outputs": [
    {
     "data": {
      "text/plain": [
       "array([ 1.        , 34.62365962, 78.02469282])"
      ]
     },
     "execution_count": 20,
     "metadata": {},
     "output_type": "execute_result"
    }
   ],
   "source": [
    "X[0]"
   ]
  },
  {
   "cell_type": "code",
   "execution_count": 21,
   "metadata": {},
   "outputs": [],
   "source": [
    "def predict(X, Y, theta_opt):\n",
    "    Y_pred = []\n",
    "    correct, incorrect = 0, 0\n",
    "    for i in range(np.shape(X)[0]):\n",
    "        Y_pred.append(round(sigmoid(np.matmul(np.transpose(theta_opt),X[i]))))\n",
    "    return Y_pred \n",
    "    "
   ]
  },
  {
   "cell_type": "code",
   "execution_count": 22,
   "metadata": {},
   "outputs": [],
   "source": [
    "def get_acurracy(Y, Y_pred, m):\n",
    "    return np.sum((Y == np.array(Y_pred))) / m"
   ]
  },
  {
   "cell_type": "code",
   "execution_count": 23,
   "metadata": {},
   "outputs": [
    {
     "name": "stdout",
     "output_type": "stream",
     "text": [
      "El porcentaje de acierto del modelo es: 0.89\n"
     ]
    }
   ],
   "source": [
    "print(\"El porcentaje de acierto del modelo es: {}\".format(get_acurracy(Y, predict(X,Y, theta_opt), m)))"
   ]
  },
  {
   "cell_type": "markdown",
   "metadata": {},
   "source": [
    "## 2.  Regresión logística regularizada"
   ]
  },
  {
   "cell_type": "code",
   "execution_count": 24,
   "metadata": {},
   "outputs": [],
   "source": [
    "data =load_csv(\"data/ex2data2.csv\")"
   ]
  },
  {
   "cell_type": "code",
   "execution_count": 25,
   "metadata": {},
   "outputs": [],
   "source": [
    "X = data[:,:-1] # Features\n",
    "Y = data[:, -1] # Target\n",
    "m = np.shape(X)[0] # number of rows"
   ]
  },
  {
   "cell_type": "code",
   "execution_count": 26,
   "metadata": {},
   "outputs": [
    {
     "name": "stdout",
     "output_type": "stream",
     "text": [
      "##################################################\n",
      "[[ 0.051267  0.69956   1.      ]\n",
      " [-0.092742  0.68494   1.      ]\n",
      " [-0.21371   0.69225   1.      ]\n",
      " [-0.375     0.50219   1.      ]\n",
      " [-0.51325   0.46564   1.      ]]\n",
      "##################################################\n",
      "[[ 0.051267  0.69956 ]\n",
      " [-0.092742  0.68494 ]\n",
      " [-0.21371   0.69225 ]\n",
      " [-0.375     0.50219 ]\n",
      " [-0.51325   0.46564 ]]\n",
      "##################################################\n",
      "[1. 1. 1. 1. 1.]\n"
     ]
    }
   ],
   "source": [
    "print(\"#\" * 50)\n",
    "print(data[:5])\n",
    "print(\"#\" * 50)\n",
    "print(X[:5])\n",
    "print(\"#\" * 50)\n",
    "print(Y[:5])"
   ]
  },
  {
   "cell_type": "code",
   "execution_count": 27,
   "metadata": {},
   "outputs": [],
   "source": [
    "# Obtiene un vector con los índices  de  los  ejemplos  positivos\n",
    "pos_pass = np.where(Y == 1)\n",
    "pos_fail = np.where(Y == 0)"
   ]
  },
  {
   "cell_type": "code",
   "execution_count": 28,
   "metadata": {},
   "outputs": [
    {
     "data": {
      "text/plain": [
       "<matplotlib.collections.PathCollection at 0x7f84fa9c17f0>"
      ]
     },
     "execution_count": 28,
     "metadata": {},
     "output_type": "execute_result"
    },
    {
     "data": {
      "image/png": "[encoded data removed]",
      "text/plain": [
       "<Figure size 432x288 with 1 Axes>"
      ]
     },
     "metadata": {
      "needs_background": "light"
     },
     "output_type": "display_data"
    }
   ],
   "source": [
    "#Dibuja los ejemplos positivos\n",
    "plt.scatter(X[pos_pass, 0], X[pos_pass, 1], marker =\"+\", c=\"lightgreen\")\n",
    "plt.scatter(X[pos_fail, 0], X[pos_fail, 1], marker =\".\", c=\"red\")"
   ]
  },
  {
   "cell_type": "markdown",
   "metadata": {},
   "source": [
    "## 2.1 Mapeo de los atributos"
   ]
  },
  {
   "cell_type": "code",
   "execution_count": 29,
   "metadata": {},
   "outputs": [],
   "source": [
    "poly = PolynomialFeatures(degree=6)"
   ]
  },
  {
   "cell_type": "code",
   "execution_count": 30,
   "metadata": {},
   "outputs": [
    {
     "data": {
      "text/plain": [
       "array([[ 1.00000000e+00,  5.12670000e-02,  6.99560000e-01, ...,\n",
       "         6.29470940e-04,  8.58939846e-03,  1.17205992e-01],\n",
       "       [ 1.00000000e+00, -9.27420000e-02,  6.84940000e-01, ...,\n",
       "         1.89305413e-03, -1.39810280e-02,  1.03255971e-01],\n",
       "       [ 1.00000000e+00, -2.13710000e-01,  6.92250000e-01, ...,\n",
       "         1.04882142e-02, -3.39734512e-02,  1.10046893e-01],\n",
       "       ...,\n",
       "       [ 1.00000000e+00, -4.84450000e-01,  9.99270000e-01, ...,\n",
       "         2.34007252e-01, -4.82684337e-01,  9.95627986e-01],\n",
       "       [ 1.00000000e+00, -6.33640000e-03,  9.99270000e-01, ...,\n",
       "         4.00328554e-05, -6.31330588e-03,  9.95627986e-01],\n",
       "       [ 1.00000000e+00,  6.32650000e-01, -3.06120000e-02, ...,\n",
       "         3.51474517e-07, -1.70067777e-08,  8.22905998e-10]])"
      ]
     },
     "execution_count": 30,
     "metadata": {},
     "output_type": "execute_result"
    }
   ],
   "source": [
    "X_poly = poly.fit_transform(X)\n",
    "X=np.hstack([np.ones([m,1]), X])\n",
    "X_poly"
   ]
  },
  {
   "cell_type": "code",
   "execution_count": 31,
   "metadata": {},
   "outputs": [
    {
     "data": {
      "text/plain": [
       "(118, 28)"
      ]
     },
     "execution_count": 31,
     "metadata": {},
     "output_type": "execute_result"
    }
   ],
   "source": [
    "X_poly.shape"
   ]
  },
  {
   "cell_type": "markdown",
   "metadata": {},
   "source": [
    "## 2.2 Cálculo de la función de coste y su gradiente"
   ]
  },
  {
   "cell_type": "code",
   "execution_count": 32,
   "metadata": {},
   "outputs": [],
   "source": [
    "def cost_regularization(thetas, X, Y, Lambda):\n",
    "    sigmoid_X_theta = sigmoid(np.matmul(X,thetas))\n",
    "    \n",
    "    term_1_1 = np.matmul(np.transpose(np.log(sigmoid_X_theta)), Y)\n",
    "    \n",
    "    term_1_2 = np.matmul(np.transpose(np.log((1- sigmoid_X_theta))),(1-Y))\n",
    "    \n",
    "    term_1 = - (term_1_1 + term_1_2) / np.shape(X)[0]\n",
    "    term_2 = Lambda/(2*m) * sum(thetas **2)\n",
    "    \n",
    "    return term_1 + term_2"
   ]
  },
  {
   "cell_type": "code",
   "execution_count": 33,
   "metadata": {},
   "outputs": [],
   "source": [
    "def gradient_reguarization(thetas, X, Y, Lambda):\n",
    "    sigmoid_X_theta = sigmoid(np.matmul(X,thetas))\n",
    "    \n",
    "    term_1 = np.matmul(np.transpose(X),(sigmoid_X_theta - Y)) /  np.shape(X)[0]\n",
    "    term_2 = (Lambda/m) * thetas\n",
    "    \n",
    "    return term_1 + term_2"
   ]
  },
  {
   "cell_type": "code",
   "execution_count": 34,
   "metadata": {},
   "outputs": [],
   "source": [
    "thetas = np.zeros(np.shape(X_poly)[1])"
   ]
  },
  {
   "cell_type": "code",
   "execution_count": 35,
   "metadata": {},
   "outputs": [
    {
     "data": {
      "text/plain": [
       "0.6931471805599453"
      ]
     },
     "execution_count": 35,
     "metadata": {},
     "output_type": "execute_result"
    }
   ],
   "source": [
    "cost_regularization(thetas, X_poly, Y, 1)"
   ]
  },
  {
   "cell_type": "markdown",
   "metadata": {},
   "source": [
    "## 2.3 Cálculo del valor óptimo de los parámetros"
   ]
  },
  {
   "cell_type": "code",
   "execution_count": 36,
   "metadata": {},
   "outputs": [],
   "source": [
    "result = opt.fmin_tnc(func=cost_regularization, x0= thetas, fprime=gradient_reguarization, args=(X_poly,Y,1))\n",
    "theta_opt = result[0]"
   ]
  },
  {
   "cell_type": "code",
   "execution_count": 37,
   "metadata": {},
   "outputs": [
    {
     "data": {
      "text/plain": [
       "array([ 1.14201563,  0.60123714,  1.16715815, -1.87180901, -0.91567129,\n",
       "       -1.26944019,  0.12678672, -0.36850107, -0.34494254, -0.17391074,\n",
       "       -1.42370671, -0.04838579, -0.60631733, -0.26916589, -1.16320193,\n",
       "       -0.24269708, -0.20697486, -0.04305269, -0.28008547, -0.2870893 ,\n",
       "       -0.46912456, -1.03629765,  0.02904381, -0.2925073 ,  0.01716378,\n",
       "       -0.32880517, -0.13795624, -0.93187567])"
      ]
     },
     "execution_count": 37,
     "metadata": {},
     "output_type": "execute_result"
    }
   ],
   "source": [
    "theta_opt"
   ]
  },
  {
   "cell_type": "code",
   "execution_count": 38,
   "metadata": {},
   "outputs": [],
   "source": [
    "def plot_decisionboundary(X, Y, theta, poly):\n",
    "    \n",
    "    plt.figure()\n",
    "    pos_pass = np.where(Y == 1)\n",
    "    pos_fail = np.where(Y == 0)\n",
    "\n",
    "    x1_min,x1_max=X[:,1].min(),X[:,1].max()\n",
    "    x2_min,x2_max=X[:,2].min(),X[:,2].max()\n",
    "    xx1, xx2 = np.meshgrid(np.linspace(x1_min,x1_max),\n",
    "                          np.linspace(x2_min,x2_max))\n",
    "    h = sigmoid(poly.fit_transform(np.c_[xx1.ravel(), xx2.ravel()]).dot(theta))\n",
    "\n",
    "    h = h.reshape(xx1.shape)    \n",
    "    \n",
    "    plt.scatter(X[pos_pass, 1], X[pos_pass, 2], marker =\"+\", c=\"lightgreen\")\n",
    "    plt.scatter(X[pos_fail, 1], X[pos_fail, 2], marker =\".\", c=\"red\")\n",
    "\n",
    "    plt.contour(xx1, xx2, h, [0.5], linewidths=1, colors='g')\n",
    "    plt.show()\n",
    "    plt.close()\n",
    "    "
   ]
  },
  {
   "cell_type": "code",
   "execution_count": 39,
   "metadata": {},
   "outputs": [
    {
     "data": {
      "image/png": "[encoded data removed]",
      "text/plain": [
       "<Figure size 432x288 with 1 Axes>"
      ]
     },
     "metadata": {
      "needs_background": "light"
     },
     "output_type": "display_data"
    }
   ],
   "source": [
    "plot_decisionboundary(X_poly,Y,theta_opt,poly)"
   ]
  },
  {
   "cell_type": "code",
   "execution_count": 40,
   "metadata": {},
   "outputs": [
    {
     "name": "stdout",
     "output_type": "stream",
     "text": [
      "El porcentaje de acierto del modelo es: 81.35593220338984%\n"
     ]
    }
   ],
   "source": [
    "print(\"El porcentaje de acierto del modelo es: {}\".format(get_acurracy(Y, predict(X_poly, Y,theta_opt), m)*100) + \"%\")"
   ]
  },
  {
   "cell_type": "markdown",
   "metadata": {},
   "source": [
    "## 2.4.  Efectos de la regularización"
   ]
  },
  {
   "cell_type": "code",
   "execution_count": 41,
   "metadata": {},
   "outputs": [],
   "source": [
    "def regularization_effects(X_poly, Y):\n",
    "    accuracy_array = []\n",
    "    for i in range(100):\n",
    "        theta_opt = opt.fmin_tnc(func=cost_regularization, x0= thetas, fprime=gradient_reguarization, args=(X_poly,Y,i/10))[0]\n",
    "        accuracy_array.append(get_acurracy(Y, predict(X_poly, Y,theta_opt), m)*100)\n",
    "        \n",
    "    plt.xlabel(\"Lambda value\")\n",
    "    plt.ylabel(\"Accuracy\")\n",
    "    plt.plot(np.linspace(1,10,100),accuracy_array)"
   ]
  },
  {
   "cell_type": "code",
   "execution_count": 42,
   "metadata": {},
   "outputs": [
    {
     "data": {
      "image/png": "[encoded data removed]",
      "text/plain": [
       "<Figure size 432x288 with 1 Axes>"
      ]
     },
     "metadata": {
      "needs_background": "light"
     },
     "output_type": "display_data"
    }
   ],
   "source": [
    "regularization_effects(X_poly,Y)"
   ]
  }
 ],
 "metadata": {
  "kernelspec": {
   "display_name": "Python 3",
   "language": "python",
   "name": "python3"
  },
  "language_info": {
   "codemirror_mode": {
    "name": "ipython",
    "version": 3
   },
   "file_extension": ".py",
   "mimetype": "text/x-python",
   "name": "python",
   "nbconvert_exporter": "python",
   "pygments_lexer": "ipython3",
   "version": "3.7.3"
  }
 },
 "nbformat": 4,
 "nbformat_minor": 2
}
