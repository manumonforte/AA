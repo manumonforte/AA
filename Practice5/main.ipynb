{
 "cells": [
  {
   "cell_type": "markdown",
   "metadata": {},
   "source": [
    "# Práctica 5: Regresión lineal regularizada: sesgo y varianza"
   ]
  },
  {
   "cell_type": "code",
   "execution_count": 1,
   "metadata": {},
   "outputs": [],
   "source": [
    "# Library imports\n",
    "import numpy as np\n",
    "from pandas.io.parsers import read_csv\n",
    "from matplotlib import pyplot as plt\n",
    "from scipy.io import loadmat\n",
    "from scipy import optimize\n",
    "import operator"
   ]
  },
  {
   "cell_type": "markdown",
   "metadata": {},
   "source": [
    "## 1. Regresión lineal regularizada"
   ]
  },
  {
   "cell_type": "code",
   "execution_count": 2,
   "metadata": {},
   "outputs": [],
   "source": [
    "data = loadmat('ex5data1.mat')"
   ]
  },
  {
   "cell_type": "code",
   "execution_count": 3,
   "metadata": {},
   "outputs": [],
   "source": [
    "# Loading data\n",
    "data = loadmat('ex5data1.mat')\n",
    "\n",
    "Y = data['y']\n",
    "X = data['X']\n",
    "X_orig = data['X']\n",
    "Xtest = data['Xtest']\n",
    "Xtest_orig = data['Xtest']\n",
    "Ytest = data['ytest']\n",
    "Xval = data['Xval']\n",
    "Xval_orig = data[\"Xval\"]\n",
    "Yval = data['yval']\n",
    "X=np.hstack([np.ones([X.shape[0],1]),X])\n",
    "Xval=np.hstack([np.ones([Xval.shape[0],1]),Xval])\n",
    "Xtest=np.hstack([np.ones([Xtest.shape[0],1]),Xtest])"
   ]
  },
  {
   "cell_type": "code",
   "execution_count": 4,
   "metadata": {},
   "outputs": [
    {
     "name": "stdout",
     "output_type": "stream",
     "text": [
      "##################################################\n",
      "[[  1.         -15.93675813]\n",
      " [  1.         -29.15297922]\n",
      " [  1.          36.18954863]\n",
      " [  1.          37.49218733]\n",
      " [  1.         -48.05882945]\n",
      " [  1.          -8.94145794]\n",
      " [  1.          15.30779289]\n",
      " [  1.         -34.70626581]\n",
      " [  1.           1.38915437]\n",
      " [  1.         -44.38375985]\n",
      " [  1.           7.01350208]\n",
      " [  1.          22.76274892]]\n",
      "##################################################\n",
      "[[ 2.13431051]\n",
      " [ 1.17325668]\n",
      " [34.35910918]\n",
      " [36.83795516]\n",
      " [ 2.80896507]\n",
      " [ 2.12107248]\n",
      " [14.71026831]\n",
      " [ 2.61418439]\n",
      " [ 3.74017167]\n",
      " [ 3.73169131]\n",
      " [ 7.62765885]\n",
      " [22.7524283 ]]\n"
     ]
    }
   ],
   "source": [
    "print(\"#\" * 50)\n",
    "print(X)\n",
    "print(\"#\" * 50)\n",
    "print(Y)"
   ]
  },
  {
   "cell_type": "code",
   "execution_count": 5,
   "metadata": {},
   "outputs": [],
   "source": [
    "thetas= np.ones(X.shape[1])\n",
    "initial_thetas = np.zeros(X.shape[1])"
   ]
  },
  {
   "cell_type": "markdown",
   "metadata": {},
   "source": [
    "Creamos funcion de coste y de gradiente"
   ]
  },
  {
   "cell_type": "code",
   "execution_count": 6,
   "metadata": {},
   "outputs": [],
   "source": [
    "def cost(thetas, X, Y, reg=0):\n",
    "    m = X.shape[0]\n",
    "    H = np.dot(X, thetas)\n",
    "    cost = (1/(2*m)) * np.sum((H-Y.T)**2) + ( reg / (2 * m) ) * np.sum(thetas[1:]**2)\n",
    "    return cost\n",
    "\n",
    "def gradient(thetas, X, Y, reg=0):\n",
    "    tt = np.copy(thetas)\n",
    "    tt[0]=0\n",
    "    m = X.shape[0]\n",
    "    H = np.dot(X, thetas)\n",
    "    gradient = ((1 / m) * np.dot(H-Y.T,X)) + ((reg/m) * tt)\n",
    "    return gradient\n",
    "\n",
    "def linearCostGrad(thetas,X,Y,reg=0):\n",
    "    return (cost(thetas,X,Y,reg),gradient(thetas,X,Y).flatten())"
   ]
  },
  {
   "cell_type": "code",
   "execution_count": 7,
   "metadata": {},
   "outputs": [
    {
     "data": {
      "text/plain": [
       "(303.9515255535976, array([-15.30301567, 598.16741084]))"
      ]
     },
     "execution_count": 7,
     "metadata": {},
     "output_type": "execute_result"
    }
   ],
   "source": [
    "linearCostGrad(thetas,X,Y)"
   ]
  },
  {
   "cell_type": "code",
   "execution_count": 8,
   "metadata": {},
   "outputs": [
    {
     "data": {
      "text/plain": [
       "array([13.08790351,  0.36777923])"
      ]
     },
     "execution_count": 8,
     "metadata": {},
     "output_type": "execute_result"
    }
   ],
   "source": [
    "thetas_opt = optimize.minimize(fun=linearCostGrad,\n",
    "                       x0=initial_thetas,\n",
    "                       args=(X,Y),\n",
    "                       method='TNC',\n",
    "                       jac=True).x\n",
    "thetas_opt"
   ]
  },
  {
   "cell_type": "code",
   "execution_count": 9,
   "metadata": {},
   "outputs": [],
   "source": [
    "def draw_plot(X,Y,thetas):\n",
    "    plt.scatter(X[:,1], Y, marker= \"x\", color=\"red\")\n",
    "    Y_pred = X @ thetas\n",
    "    plt.plot(X[:,1], Y_pred)"
   ]
  },
  {
   "cell_type": "code",
   "execution_count": 10,
   "metadata": {},
   "outputs": [
    {
     "data": {
      "image/png": "[encoded data removed]",
      "text/plain": [
       "<Figure size 432x288 with 1 Axes>"
      ]
     },
     "metadata": {
      "needs_background": "light"
     },
     "output_type": "display_data"
    }
   ],
   "source": [
    "draw_plot(X,Y,thetas_opt)"
   ]
  },
  {
   "cell_type": "markdown",
   "metadata": {},
   "source": [
    "## 2. Curvas de aprendizaje"
   ]
  },
  {
   "cell_type": "code",
   "execution_count": 11,
   "metadata": {},
   "outputs": [],
   "source": [
    "def get_errors(x,y, x_val, y_val,reg=0):\n",
    "    errors_train =  []\n",
    "    errors_val = []\n",
    "    for i in range(1,13):\n",
    "        initial_thetas = np.zeros(x.shape[1])\n",
    "        thetas = optimize.minimize(fun=linearCostGrad,\n",
    "                   x0=initial_thetas,\n",
    "                   args=(x[0:i],y[0:i],reg),\n",
    "                   method='TNC',\n",
    "                   jac=True).x\n",
    "        \n",
    "        errors_train.append(cost(thetas,x[0:i],y[0:i]))\n",
    "        errors_val.append(cost(thetas,x_val,y_val))\n",
    "    return (errors_train, errors_val)"
   ]
  },
  {
   "cell_type": "code",
   "execution_count": 12,
   "metadata": {},
   "outputs": [],
   "source": [
    "errors_train, errors_val = get_errors(X,Y, Xval, Yval)\n"
   ]
  },
  {
   "cell_type": "code",
   "execution_count": 13,
   "metadata": {},
   "outputs": [
    {
     "data": {
      "text/plain": [
       "<matplotlib.legend.Legend at 0x1d0ff481240>"
      ]
     },
     "execution_count": 13,
     "metadata": {},
     "output_type": "execute_result"
    },
    {
     "data": {
      "image/png": "[encoded data removed]",
      "text/plain": [
       "<Figure size 432x288 with 1 Axes>"
      ]
     },
     "metadata": {
      "needs_background": "light"
     },
     "output_type": "display_data"
    }
   ],
   "source": [
    "plt.plot(np.linspace(1,11,12,dtype=int),errors_train, label='Train')\n",
    "plt.plot(np.linspace(1,11,12,dtype=int),errors_val, label='CrossVal')\n",
    "plt.legend()"
   ]
  },
  {
   "cell_type": "markdown",
   "metadata": {},
   "source": [
    "## 3. Regresión polinomial"
   ]
  },
  {
   "cell_type": "code",
   "execution_count": 14,
   "metadata": {},
   "outputs": [],
   "source": [
    "def polinomial_data(X,p):\n",
    "    X_poly = X\n",
    "    for i in range(1, p):\n",
    "        X_poly = np.column_stack((X_poly, np.power(X, i+1)))   \n",
    "    return X_poly"
   ]
  },
  {
   "cell_type": "code",
   "execution_count": 15,
   "metadata": {},
   "outputs": [],
   "source": [
    "def normalize(X):\n",
    "    medias = np.mean(X,axis=0)\n",
    "    sigmas = np.std(X,axis=0)\n",
    "    \n",
    "    X_normalizada = (X - medias) / sigmas\n",
    "    \n",
    "    return (X_normalizada, medias, sigmas)"
   ]
  },
  {
   "cell_type": "code",
   "execution_count": 16,
   "metadata": {
    "scrolled": true
   },
   "outputs": [],
   "source": [
    "normal_results = normalize(polinomial_data(X_orig,8))\n",
    "X_normal = normal_results[0]\n",
    "medias = normal_results[1]\n",
    "sigmas = normal_results[2]\n",
    "X_normal=np.hstack([np.ones([X_normal.shape[0],1]),X_normal])"
   ]
  },
  {
   "cell_type": "code",
   "execution_count": 17,
   "metadata": {},
   "outputs": [],
   "source": [
    "initial_thetas = np.zeros(X_normal.shape[1])"
   ]
  },
  {
   "cell_type": "code",
   "execution_count": 18,
   "metadata": {},
   "outputs": [
    {
     "data": {
      "text/plain": [
       "array([ 11.2210198 ,   9.02284097,  19.00649451,  26.81608579,\n",
       "       -31.54579746, -64.19769168,  17.86665693,  49.94770283,\n",
       "        10.33595521])"
      ]
     },
     "execution_count": 18,
     "metadata": {},
     "output_type": "execute_result"
    }
   ],
   "source": [
    "thetas_opt = optimize.minimize(fun=linearCostGrad,\n",
    "                       x0=initial_thetas,\n",
    "                       args=(X_normal,Y),\n",
    "                       method='TNC',\n",
    "                       jac=True).x\n",
    "thetas_opt"
   ]
  },
  {
   "cell_type": "code",
   "execution_count": 19,
   "metadata": {},
   "outputs": [],
   "source": [
    "X_test = np.arange(np.min(X),np.max(X),0.05)\n",
    "X_test_poly= polinomial_data(X_test,8)\n",
    "X_test_poly_normal = (X_test_poly - medias) / sigmas\n",
    "X_test_poly_ones=np.hstack([np.ones([X_test_poly_normal.shape[0],1]),X_test_poly_normal])\n",
    "Y_pred = X_test_poly_ones @ thetas_opt"
   ]
  },
  {
   "cell_type": "code",
   "execution_count": 20,
   "metadata": {},
   "outputs": [
    {
     "data": {
      "text/plain": [
       "<matplotlib.collections.PathCollection at 0x1d0ff3fbf98>"
      ]
     },
     "execution_count": 20,
     "metadata": {},
     "output_type": "execute_result"
    },
    {
     "data": {
      "image/png": "[encoded data removed]",
      "text/plain": [
       "<Figure size 432x288 with 1 Axes>"
      ]
     },
     "metadata": {
      "needs_background": "light"
     },
     "output_type": "display_data"
    }
   ],
   "source": [
    "plt.plot(np.arange(np.min(X),np.max(X),0.05),Y_pred)\n",
    "plt.scatter(X_orig,Y,marker=\"X\", color=\"red\")"
   ]
  },
  {
   "cell_type": "code",
   "execution_count": 21,
   "metadata": {},
   "outputs": [],
   "source": [
    "Xval_poly = polinomial_data(Xval_orig,8)\n",
    "Xval_normal = (Xval_poly - medias) / sigmas\n",
    "Xval_normal_ones=np.hstack([np.ones([Xval_normal.shape[0],1]),Xval_normal])"
   ]
  },
  {
   "cell_type": "markdown",
   "metadata": {},
   "source": [
    "###  λ = 0"
   ]
  },
  {
   "cell_type": "code",
   "execution_count": 22,
   "metadata": {},
   "outputs": [],
   "source": [
    "errors_train, errors_val = get_errors(X_normal,Y, Xval_normal_ones, Yval)"
   ]
  },
  {
   "cell_type": "code",
   "execution_count": 23,
   "metadata": {},
   "outputs": [
    {
     "data": {
      "text/plain": [
       "<matplotlib.legend.Legend at 0x1d0ffb8aeb8>"
      ]
     },
     "execution_count": 23,
     "metadata": {},
     "output_type": "execute_result"
    },
    {
     "data": {
      "image/png": "[encoded data removed]",
      "text/plain": [
       "<Figure size 432x288 with 1 Axes>"
      ]
     },
     "metadata": {
      "needs_background": "light"
     },
     "output_type": "display_data"
    }
   ],
   "source": [
    "plt.plot(np.linspace(1,12,12,dtype=int),errors_train, label='Train')\n",
    "plt.plot(np.linspace(1,12,12,dtype=int),errors_val, label='CrossVal')\n",
    "plt.legend()"
   ]
  },
  {
   "cell_type": "markdown",
   "metadata": {},
   "source": [
    "###  λ = 1"
   ]
  },
  {
   "cell_type": "code",
   "execution_count": 24,
   "metadata": {},
   "outputs": [],
   "source": [
    "errors_train, errors_val = get_errors(X_normal,Y, Xval_normal_ones, Yval,1)"
   ]
  },
  {
   "cell_type": "code",
   "execution_count": 25,
   "metadata": {},
   "outputs": [
    {
     "data": {
      "text/plain": [
       "<matplotlib.legend.Legend at 0x1d0ffbdcb00>"
      ]
     },
     "execution_count": 25,
     "metadata": {},
     "output_type": "execute_result"
    },
    {
     "data": {
      "image/png": "[encoded data removed]",
      "text/plain": [
       "<Figure size 432x288 with 1 Axes>"
      ]
     },
     "metadata": {
      "needs_background": "light"
     },
     "output_type": "display_data"
    }
   ],
   "source": [
    "plt.plot(np.linspace(1,12,12,dtype=int),errors_train, label='Train')\n",
    "plt.plot(np.linspace(1,12,12,dtype=int),errors_val, label='CrossVal')\n",
    "plt.legend()"
   ]
  },
  {
   "cell_type": "markdown",
   "metadata": {},
   "source": [
    "###  λ = 100"
   ]
  },
  {
   "cell_type": "code",
   "execution_count": 26,
   "metadata": {},
   "outputs": [],
   "source": [
    "errors_train, errors_val = get_errors(X_normal,Y, Xval_normal_ones, Yval,100)"
   ]
  },
  {
   "cell_type": "code",
   "execution_count": 27,
   "metadata": {},
   "outputs": [
    {
     "data": {
      "text/plain": [
       "<matplotlib.legend.Legend at 0x1d0ffc505c0>"
      ]
     },
     "execution_count": 27,
     "metadata": {},
     "output_type": "execute_result"
    },
    {
     "data": {
      "image/png": "[encoded data removed]",
      "text/plain": [
       "<Figure size 432x288 with 1 Axes>"
      ]
     },
     "metadata": {
      "needs_background": "light"
     },
     "output_type": "display_data"
    }
   ],
   "source": [
    "plt.plot(np.linspace(1,12,12,dtype=int),errors_train, label='Train')\n",
    "plt.plot(np.linspace(1,12,12,dtype=int),errors_val, label='CrossVal')\n",
    "plt.legend()"
   ]
  },
  {
   "cell_type": "markdown",
   "metadata": {},
   "source": [
    "## Selección de parámetro λ"
   ]
  },
  {
   "cell_type": "code",
   "execution_count": 28,
   "metadata": {},
   "outputs": [
    {
     "data": {
      "text/plain": [
       "<matplotlib.legend.Legend at 0x1d0ffc9ba90>"
      ]
     },
     "execution_count": 28,
     "metadata": {},
     "output_type": "execute_result"
    },
    {
     "data": {
      "image/png": "[encoded data removed]",
      "text/plain": [
       "<Figure size 432x288 with 1 Axes>"
      ]
     },
     "metadata": {
      "needs_background": "light"
     },
     "output_type": "display_data"
    }
   ],
   "source": [
    "Xval_poly = normalize(polinomial_data(Xval_orig,8))[0]\n",
    "Xval_normal_ones=np.hstack([np.ones([Xval_poly.shape[0],1]),Xval_poly])\n",
    "reg =[0, 0.001, 0.003, 0.01, 0.03, 0.1, 0.3, 1, 3, 10]\n",
    "errors_train = []\n",
    "errors_val = []\n",
    "\n",
    "for i in reg:\n",
    "    initial_thetas = np.zeros(X_normal.shape[1])\n",
    "    thetas = optimize.minimize(fun=linearCostGrad,\n",
    "               x0=initial_thetas,\n",
    "               args=(X_normal,Y,i),\n",
    "               method='TNC',\n",
    "               jac=True).x\n",
    "\n",
    "    errors_train.append(cost(thetas,X_normal,Y,0))\n",
    "    errors_val.append(cost(thetas,Xval_normal_ones,Yval,0))\n",
    "\n",
    "plt.plot(reg,errors_train, label='Train')\n",
    "plt.plot(reg,errors_val, label='CrossVal')\n",
    "plt.legend()"
   ]
  },
  {
   "cell_type": "code",
   "execution_count": 29,
   "metadata": {},
   "outputs": [
    {
     "data": {
      "text/plain": [
       "3.1846807862327737"
      ]
     },
     "execution_count": 29,
     "metadata": {},
     "output_type": "execute_result"
    }
   ],
   "source": [
    "thetas = optimize.minimize(fun=linearCostGrad,\n",
    "               x0=initial_thetas,\n",
    "               args=(X_normal,Y,3),\n",
    "               method='TNC',\n",
    "               jac=True).x\n",
    "\n",
    "X_test_poly= polinomial_data(Xtest_orig,8)\n",
    "X_test_poly_normal = (X_test_poly - medias) / sigmas\n",
    "X_test_poly_ones=np.hstack([np.ones([X_test_poly_normal.shape[0],1]),X_test_poly_normal])\n",
    "\n",
    "errors_test=cost(thetas,X_test_poly_ones,Ytest)\n",
    "errors_test"
   ]
  }
 ],
 "metadata": {
  "kernelspec": {
   "display_name": "Python 3",
   "language": "python",
   "name": "python3"
  },
  "language_info": {
   "codemirror_mode": {
    "name": "ipython",
    "version": 3
   },
   "file_extension": ".py",
   "mimetype": "text/x-python",
   "name": "python",
   "nbconvert_exporter": "python",
   "pygments_lexer": "ipython3",
   "version": "3.7.2"
  }
 },
 "nbformat": 4,
 "nbformat_minor": 2
}
